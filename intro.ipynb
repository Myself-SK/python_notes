{
 "cells": [
  {
   "cell_type": "code",
   "execution_count": 10,
   "metadata": {},
   "outputs": [],
   "source": []
  },
  {
   "cell_type": "code",
   "execution_count": 15,
   "metadata": {},
   "outputs": [
    {
     "data": {
      "text/plain": [
       "True"
      ]
     },
     "execution_count": 15,
     "metadata": {},
     "output_type": "execute_result"
    }
   ],
   "source": [
    "a='10'\n",
    "isinstance(a,str)"
   ]
  },
  {
   "cell_type": "code",
   "execution_count": 17,
   "metadata": {},
   "outputs": [
    {
     "name": "stdout",
     "output_type": "stream",
     "text": [
      "5.8\n",
      "9.3\n"
     ]
    }
   ],
   "source": [
    "l = [1,2,3,4,'1','a','b','c',5.8,9.3]\n",
    "for i in l:\n",
    "    if isinstance(i,float):\n",
    "        print(i)"
   ]
  },
  {
   "cell_type": "raw",
   "metadata": {},
   "source": [
    "Types of Variables:\n",
    "int\n",
    "float\n",
    "complex\n",
    "string ' ', \" \", ''' ''', \"\"\" \"\"\"\n",
    "bool True, False\n",
    "list = [ ] \n",
    "tuple = ( )\n",
    "dict = { k:v, }\n",
    "set = { }"
   ]
  },
  {
   "cell_type": "code",
   "execution_count": 6,
   "metadata": {},
   "outputs": [
    {
     "data": {
      "text/plain": [
       "False"
      ]
     },
     "execution_count": 6,
     "metadata": {},
     "output_type": "execute_result"
    }
   ],
   "source": [
    "a=10\n",
    "isinstance(a,float)"
   ]
  },
  {
   "cell_type": "raw",
   "metadata": {},
   "source": [
    "Operators:\n",
    "Arithmetic: + - * / % **(Exponential) //(floor/int div)\n",
    "Logical: and or not\n",
    "Assignment: = += -= *= /= **= //=\n",
    "Comparison: == != > < >= <=\n",
    "Bitwise: & | ^ << >>\n",
    "Special:\n",
    "    Membership:\n",
    "        in\n",
    "        not in\n",
    "    Identity\n",
    "        is\n",
    "        is not \n",
    "and \n",
    "0  0  =  0\n",
    "0  1  =  0\n",
    "1  0  =  0\n",
    "1  1  =  1\n",
    "or:\n",
    "0  0  =  0\n",
    "0  1  =  1\n",
    "1  0  =  1\n",
    "1  1  =  1\n",
    "not\n",
    "cond == True\n",
    "false\n",
    "cond == false\n",
    "true\n"
   ]
  },
  {
   "cell_type": "code",
   "execution_count": 21,
   "metadata": {},
   "outputs": [
    {
     "data": {
      "text/plain": [
       "8"
      ]
     },
     "execution_count": 21,
     "metadata": {},
     "output_type": "execute_result"
    }
   ],
   "source": [
    "2**3"
   ]
  },
  {
   "cell_type": "code",
   "execution_count": 23,
   "metadata": {},
   "outputs": [
    {
     "data": {
      "text/plain": [
       "6"
      ]
     },
     "execution_count": 23,
     "metadata": {},
     "output_type": "execute_result"
    }
   ],
   "source": [
    "int(13/2)"
   ]
  },
  {
   "cell_type": "code",
   "execution_count": 26,
   "metadata": {},
   "outputs": [
    {
     "data": {
      "text/plain": [
       "6"
      ]
     },
     "execution_count": 26,
     "metadata": {},
     "output_type": "execute_result"
    }
   ],
   "source": [
    "13//2"
   ]
  },
  {
   "cell_type": "code",
   "execution_count": 9,
   "metadata": {},
   "outputs": [
    {
     "data": {
      "text/plain": [
       "8"
      ]
     },
     "execution_count": 9,
     "metadata": {},
     "output_type": "execute_result"
    }
   ],
   "source": [
    "2 ** 4"
   ]
  },
  {
   "cell_type": "raw",
   "metadata": {},
   "source": [
    "> Greater\n",
    "< Lesser\n",
    ">= Greater or equal\n",
    "<= Lesser or equal\n",
    "== Equal\n",
    "!= Not equal"
   ]
  },
  {
   "cell_type": "code",
   "execution_count": 38,
   "metadata": {},
   "outputs": [
    {
     "data": {
      "text/plain": [
       "10"
      ]
     },
     "execution_count": 38,
     "metadata": {},
     "output_type": "execute_result"
    }
   ],
   "source": [
    "10 | 2"
   ]
  },
  {
   "cell_type": "code",
   "execution_count": null,
   "metadata": {},
   "outputs": [],
   "source": [
    "1010\n",
    "0010\n",
    "1000 -> 8"
   ]
  },
  {
   "cell_type": "raw",
   "metadata": {},
   "source": [
    "64 32 16 8 4 2 1\n",
    "0  0  0      1 0 "
   ]
  },
  {
   "cell_type": "raw",
   "metadata": {},
   "source": [
    "\n",
    "2 | 2 \n",
    "2 | 1 - 0\n",
    "2 | 0 - 1"
   ]
  },
  {
   "cell_type": "code",
   "execution_count": 40,
   "metadata": {},
   "outputs": [
    {
     "data": {
      "text/plain": [
       "2"
      ]
     },
     "execution_count": 40,
     "metadata": {},
     "output_type": "execute_result"
    }
   ],
   "source": [
    "10 >> 2\n"
   ]
  },
  {
   "cell_type": "code",
   "execution_count": 31,
   "metadata": {},
   "outputs": [
    {
     "data": {
      "text/plain": [
       "True"
      ]
     },
     "execution_count": 31,
     "metadata": {},
     "output_type": "execute_result"
    }
   ],
   "source": [
    "a=10\n",
    "not(a!=10)"
   ]
  },
  {
   "cell_type": "code",
   "execution_count": 36,
   "metadata": {},
   "outputs": [
    {
     "data": {
      "text/plain": [
       "30"
      ]
     },
     "execution_count": 36,
     "metadata": {},
     "output_type": "execute_result"
    }
   ],
   "source": [
    "a=10\n",
    "# a=a+20\n",
    "a+=20\n",
    "a"
   ]
  },
  {
   "cell_type": "code",
   "execution_count": 44,
   "metadata": {},
   "outputs": [
    {
     "data": {
      "text/plain": [
       "True"
      ]
     },
     "execution_count": 44,
     "metadata": {},
     "output_type": "execute_result"
    }
   ],
   "source": [
    "10 not in [1,2,3,4,5,6]"
   ]
  },
  {
   "cell_type": "code",
   "execution_count": 46,
   "metadata": {},
   "outputs": [
    {
     "name": "stderr",
     "output_type": "stream",
     "text": [
      "<>:1: SyntaxWarning: \"is\" with a literal. Did you mean \"==\"?\n",
      "<>:1: SyntaxWarning: \"is\" with a literal. Did you mean \"==\"?\n",
      "/var/folders/p9/krmkj3g17fg0tk8ht27lq40r0000gn/T/ipykernel_5660/2990523969.py:1: SyntaxWarning: \"is\" with a literal. Did you mean \"==\"?\n",
      "  'Shiva' is  \"Dhanu\"\n"
     ]
    },
    {
     "data": {
      "text/plain": [
       "False"
      ]
     },
     "execution_count": 46,
     "metadata": {},
     "output_type": "execute_result"
    }
   ],
   "source": [
    "'Shiva' is  \"Dhanu\""
   ]
  },
  {
   "cell_type": "code",
   "execution_count": 1,
   "metadata": {},
   "outputs": [
    {
     "data": {
      "text/plain": [
       "2"
      ]
     },
     "execution_count": 1,
     "metadata": {},
     "output_type": "execute_result"
    }
   ],
   "source": [
    "1010\n",
    "0010\n",
    "0010"
   ]
  },
  {
   "cell_type": "raw",
   "metadata": {},
   "source": [
    "Input and Output:\n",
    "input() is used to read data from the user\n",
    "print() is used to display data to the user"
   ]
  },
  {
   "cell_type": "code",
   "execution_count": 18,
   "metadata": {},
   "outputs": [],
   "source": [
    "a = int(input(\"Enter a Number\"))"
   ]
  },
  {
   "cell_type": "code",
   "execution_count": 26,
   "metadata": {},
   "outputs": [
    {
     "name": "stdout",
     "output_type": "stream",
     "text": [
      "Hello World1010\n"
     ]
    }
   ],
   "source": [
    "print(\"Hello World\",a,b,sep=\"\")"
   ]
  },
  {
   "cell_type": "code",
   "execution_count": 30,
   "metadata": {},
   "outputs": [
    {
     "name": "stdout",
     "output_type": "stream",
     "text": [
      "10----10\n",
      "10\n"
     ]
    }
   ],
   "source": [
    "print(a,end=\"----\")\n",
    "print(b)\n",
    "print(a)"
   ]
  },
  {
   "cell_type": "code",
   "execution_count": 34,
   "metadata": {},
   "outputs": [
    {
     "name": "stdout",
     "output_type": "stream",
     "text": [
      "54\n"
     ]
    }
   ],
   "source": [
    "n = int(input(\"Enter a number: \"))\n",
    "print((n%10)*10+(n//10))"
   ]
  },
  {
   "cell_type": "raw",
   "metadata": {},
   "source": [
    "Enter total number of Products: 30\n",
    "Enter price per Product: 100\n",
    "Total: 3000\n",
    "Dis: 300\n",
    "Net: 2700"
   ]
  },
  {
   "cell_type": "raw",
   "metadata": {},
   "source": [
    "Conditional Statements:\n",
    "if\n",
    "else\n",
    "nested if\n",
    "if elif ladder"
   ]
  },
  {
   "cell_type": "raw",
   "metadata": {},
   "source": [
    "if cond:\n",
    "    statement\n",
    "statement    "
   ]
  },
  {
   "cell_type": "code",
   "execution_count": 10,
   "metadata": {},
   "outputs": [
    {
     "name": "stdout",
     "output_type": "stream",
     "text": [
      "A<B\n"
     ]
    }
   ],
   "source": [
    "a=200\n",
    "b=200\n",
    "if a>b:print(\"A>B\")\n",
    "else:\n",
    "    print(\"A<B\")"
   ]
  },
  {
   "cell_type": "raw",
   "metadata": {},
   "source": [
    "# Syntax of nested if else\n",
    "if cond:\n",
    "    statement\n",
    "    if cond:\n",
    "        statement\n",
    "    else:\n",
    "        statement\n",
    "    statement\n",
    "else:\n",
    "    statement\n",
    "    if cond:\n",
    "        statement\n",
    "    else:\n",
    "        statement\n",
    "    statement\n"
   ]
  },
  {
   "cell_type": "code",
   "execution_count": 13,
   "metadata": {},
   "outputs": [
    {
     "name": "stdout",
     "output_type": "stream",
     "text": [
      "A is Greater\n"
     ]
    }
   ],
   "source": [
    "a,b,c = 1000,200,30\n",
    "if a>b:\n",
    "    if a>c:\n",
    "        print(\"A is Greater\")\n",
    "    else:\n",
    "        print(\"B is Greater\")\n",
    "else:\n",
    "    if b>c:\n",
    "        print(\"B is Greater\")\n",
    "    else:\n",
    "        print(\"C is Greater\")"
   ]
  },
  {
   "cell_type": "code",
   "execution_count": 19,
   "metadata": {},
   "outputs": [
    {
     "name": "stdout",
     "output_type": "stream",
     "text": [
      "A>=10\n"
     ]
    }
   ],
   "source": [
    "a=10\n",
    "if a>=10:\n",
    "    print(\"A>=10\")\n",
    "elif a<10:\n",
    "    print(\"A<=10\")\n",
    "elif a!=10:\n",
    "    print(\"A!=10\")\n",
    "else:\n",
    "    print(\"A=10\")"
   ]
  },
  {
   "cell_type": "code",
   "execution_count": 20,
   "metadata": {},
   "outputs": [
    {
     "name": "stdout",
     "output_type": "stream",
     "text": [
      "C is Great\n"
     ]
    }
   ],
   "source": [
    "a,b,c = 10,20,30\n",
    "if a>b and a>c:\n",
    "    print(\"A is Great\")\n",
    "elif b>c:\n",
    "    print(\"B is Great\")\n",
    "else:\n",
    "    print(\"C is Great\")"
   ]
  },
  {
   "cell_type": "raw",
   "metadata": {},
   "source": [
    "Total Units Consumed: \n",
    "<=150 = perUnit = 2\n",
    ">150 and <=250 = first 150 => 2, 100 => 3\n",
    ">250 <400. first 150 =>2, 100 => 3, 150 => 5\n",
    ">400 first 150 =>2, 100 => 3, 150 => 5, 7"
   ]
  }
 ],
 "metadata": {
  "kernelspec": {
   "display_name": "base",
   "language": "python",
   "name": "python3"
  },
  "language_info": {
   "codemirror_mode": {
    "name": "ipython",
    "version": 3
   },
   "file_extension": ".py",
   "mimetype": "text/x-python",
   "name": "python",
   "nbconvert_exporter": "python",
   "pygments_lexer": "ipython3",
   "version": "3.11.7"
  }
 },
 "nbformat": 4,
 "nbformat_minor": 2
}
