{
 "cells": [
  {
   "cell_type": "code",
   "execution_count": null,
   "metadata": {},
   "outputs": [],
   "source": [
    "# Object\n",
    "# Class\n",
    "# Inheritance\n",
    "# Polymorphism\n",
    "# Data Abstraction\n",
    "# Data Encapsulation\n",
    "# Data Hiding\n"
   ]
  },
  {
   "cell_type": "code",
   "execution_count": null,
   "metadata": {},
   "outputs": [],
   "source": [
    "# class class_name:\n",
    "#     attributes\n",
    "#     functions"
   ]
  },
  {
   "cell_type": "code",
   "execution_count": 18,
   "metadata": {},
   "outputs": [],
   "source": [
    "class Book:\n",
    "    no_of_pages = 0\n",
    "    \n",
    "    def setPages(self):\n",
    "        pages = int(input(\"Enter the number of pages: \"))\n",
    "        self.no_of_pages = pages\n",
    "\n",
    "    def getBookPages(self):\n",
    "        print(\"Number of pages in the book: \", self.no_of_pages)\n",
    "    \n",
    "    def tarePages(self,n):\n",
    "        total = 1\n",
    "        for i in range(1,6):\n",
    "            total+=(2**i)\n",
    "        self.no_of_pages -= total\n",
    "\n"
   ]
  },
  {
   "cell_type": "code",
   "execution_count": 34,
   "metadata": {},
   "outputs": [],
   "source": [
    "b = Book()\n",
    "c = Book()"
   ]
  },
  {
   "cell_type": "code",
   "execution_count": 35,
   "metadata": {},
   "outputs": [],
   "source": [
    "b.setPages()"
   ]
  },
  {
   "cell_type": "code",
   "execution_count": 36,
   "metadata": {},
   "outputs": [],
   "source": [
    "c.setPages()"
   ]
  },
  {
   "cell_type": "code",
   "execution_count": 37,
   "metadata": {},
   "outputs": [
    {
     "name": "stdout",
     "output_type": "stream",
     "text": [
      "Number of pages in the book:  100\n"
     ]
    }
   ],
   "source": [
    "b.getBookPages()"
   ]
  },
  {
   "cell_type": "code",
   "execution_count": 38,
   "metadata": {},
   "outputs": [
    {
     "name": "stdout",
     "output_type": "stream",
     "text": [
      "Number of pages in the book:  200\n"
     ]
    }
   ],
   "source": [
    "c.getBookPages()"
   ]
  },
  {
   "cell_type": "code",
   "execution_count": 39,
   "metadata": {},
   "outputs": [],
   "source": [
    "b.tarePages(20)"
   ]
  },
  {
   "cell_type": "code",
   "execution_count": 40,
   "metadata": {},
   "outputs": [
    {
     "name": "stdout",
     "output_type": "stream",
     "text": [
      "Number of pages in the book:  37\n"
     ]
    }
   ],
   "source": [
    "b.getBookPages()"
   ]
  },
  {
   "cell_type": "code",
   "execution_count": 41,
   "metadata": {},
   "outputs": [
    {
     "name": "stdout",
     "output_type": "stream",
     "text": [
      "Number of pages in the book:  200\n"
     ]
    }
   ],
   "source": [
    "c.getBookPages()"
   ]
  },
  {
   "cell_type": "code",
   "execution_count": 45,
   "metadata": {},
   "outputs": [],
   "source": [
    "class Dog:\n",
    "    legs= None\n",
    "    eyes = None\n",
    "    ear = None\n",
    "    eyeColor = None\n",
    "    color = None\n",
    "    breed = None\n",
    "    tail = None\n",
    "    tailLength = None\n",
    "\n",
    "    def createDog(self):\n",
    "        self.legs = int(input(\"Enter the number of legs: \"))\n",
    "        self.eyes = int(input(\"Enter the number of eyes: \"))\n",
    "        self.ear = int(input(\"Enter the number of ears: \"))\n",
    "        self.color = input(\"Enter the color of the dog: \")\n",
    "        self.breed = input(\"Enter the breed of the dog: \")\n",
    "        self.tail = input(\"Enter the tail type of the dog: \")\n",
    "        self.tailLength = int(input(\"Enter the length of the tail: \"))\n",
    "        self.eyeColor = input(\"Enter the color of the eyes: \")\n",
    "    \n",
    "    def sit(self):\n",
    "        print(\"Dog is sitting\")\n",
    "\n",
    "    def bark(self):\n",
    "        print(\"Dog is barking\")\n",
    "\n",
    "    def run(self):\n",
    "        print(\"Dog is running\")\n",
    "    \n",
    "    def fetch(self,object):\n",
    "        print(\"Dog is fetching the\",object)"
   ]
  },
  {
   "cell_type": "code",
   "execution_count": 46,
   "metadata": {},
   "outputs": [],
   "source": [
    "sachin = Dog()"
   ]
  },
  {
   "cell_type": "code",
   "execution_count": 48,
   "metadata": {},
   "outputs": [],
   "source": [
    "sachin.createDog()"
   ]
  },
  {
   "cell_type": "code",
   "execution_count": 49,
   "metadata": {},
   "outputs": [
    {
     "name": "stdout",
     "output_type": "stream",
     "text": [
      "Dog is sitting\n"
     ]
    }
   ],
   "source": [
    "sachin.sit()"
   ]
  },
  {
   "cell_type": "code",
   "execution_count": 50,
   "metadata": {},
   "outputs": [
    {
     "name": "stdout",
     "output_type": "stream",
     "text": [
      "Dog is fetching the Stick\n"
     ]
    }
   ],
   "source": [
    "sachin.fetch('Stick')"
   ]
  },
  {
   "cell_type": "code",
   "execution_count": 51,
   "metadata": {},
   "outputs": [
    {
     "name": "stdout",
     "output_type": "stream",
     "text": [
      "Dog is barking\n"
     ]
    }
   ],
   "source": [
    "sachin.bark()"
   ]
  },
  {
   "cell_type": "code",
   "execution_count": null,
   "metadata": {},
   "outputs": [],
   "source": [
    "# Constructor:\n",
    "#     it is a function which is invoked automatically when an object is created \n",
    "#     __init__(self)"
   ]
  },
  {
   "cell_type": "code",
   "execution_count": 1,
   "metadata": {},
   "outputs": [],
   "source": [
    "class Dog:\n",
    "    legs= None\n",
    "    eyes = None\n",
    "    ear = None\n",
    "    eyeColor = None\n",
    "    color = None\n",
    "    breed = None\n",
    "    tail = None\n",
    "    tailLength = None\n",
    "\n",
    "    def __init__(self):\n",
    "        self.legs = int(input(\"Enter the number of legs: \"))\n",
    "        self.eyes = int(input(\"Enter the number of eyes: \"))\n",
    "        self.ear = int(input(\"Enter the number of ears: \"))\n",
    "        self.color = input(\"Enter the color of the dog: \")\n",
    "        self.breed = input(\"Enter the breed of the dog: \")\n",
    "        self.tail = input(\"Enter the tail type of the dog: \")\n",
    "        self.tailLength = int(input(\"Enter the length of the tail: \"))\n",
    "        self.eyeColor = input(\"Enter the color of the eyes: \")\n",
    "    \n",
    "    def sit(self):\n",
    "        print(\"Dog is sitting\")\n",
    "\n",
    "    def bark(self):\n",
    "        print(\"Dog is barking\")\n",
    "\n",
    "    def run(self):\n",
    "        print(\"Dog is running\")\n",
    "    \n",
    "    def fetch(self,object):\n",
    "        print(\"Dog is fetching the\",object)"
   ]
  },
  {
   "cell_type": "code",
   "execution_count": 12,
   "metadata": {},
   "outputs": [],
   "source": [
    "s = Dog()"
   ]
  },
  {
   "cell_type": "code",
   "execution_count": 13,
   "metadata": {},
   "outputs": [
    {
     "name": "stdout",
     "output_type": "stream",
     "text": [
      "Dog is sitting\n"
     ]
    }
   ],
   "source": [
    "s.sit()"
   ]
  },
  {
   "cell_type": "code",
   "execution_count": 8,
   "metadata": {},
   "outputs": [],
   "source": [
    "class A:\n",
    "    a = None\n",
    "    def __init__(self,n):\n",
    "        self.a = n\n",
    "\n",
    "    def display(self):\n",
    "        print(\"The number is: \",self.a)"
   ]
  },
  {
   "cell_type": "code",
   "execution_count": 10,
   "metadata": {},
   "outputs": [],
   "source": [
    "a = A(20)"
   ]
  },
  {
   "cell_type": "code",
   "execution_count": 11,
   "metadata": {},
   "outputs": [
    {
     "name": "stdout",
     "output_type": "stream",
     "text": [
      "The number is:  20\n"
     ]
    }
   ],
   "source": [
    "a.display()"
   ]
  },
  {
   "cell_type": "code",
   "execution_count": 14,
   "metadata": {},
   "outputs": [
    {
     "data": {
      "text/plain": [
       "7723080806"
      ]
     },
     "execution_count": 14,
     "metadata": {},
     "output_type": "execute_result"
    }
   ],
   "source": []
  },
  {
   "cell_type": "code",
   "execution_count": 19,
   "metadata": {},
   "outputs": [],
   "source": [
    "import random\n",
    "class Sim:\n",
    "    name = None\n",
    "    age = None\n",
    "    mob = None\n",
    "    bal = None\n",
    "    def activate(self):\n",
    "        self.name = input(\"Enter the name: \")\n",
    "        self.age = int(input(\"Enter the age: \"))\n",
    "        self.mob = random.randint(7000000000,9999999999)\n",
    "        self.bal = 50\n",
    "\n",
    "    def display(self):\n",
    "        print(\"Name: \",self.name)\n",
    "        print(\"Age: \",self.age)\n",
    "        print(\"Mobile Number: \",self.mob)\n",
    "        print(\"Balance: \",self.bal)\n",
    "    "
   ]
  },
  {
   "cell_type": "code",
   "execution_count": 20,
   "metadata": {},
   "outputs": [],
   "source": [
    "s = Sim()"
   ]
  },
  {
   "cell_type": "code",
   "execution_count": 21,
   "metadata": {},
   "outputs": [],
   "source": [
    "s.activate()"
   ]
  },
  {
   "cell_type": "code",
   "execution_count": 22,
   "metadata": {},
   "outputs": [
    {
     "name": "stdout",
     "output_type": "stream",
     "text": [
      "Name:  Shiva\n",
      "Age:  25\n",
      "Mobile Number:  8565671703\n",
      "Balance:  50\n"
     ]
    }
   ],
   "source": [
    "s.display()"
   ]
  },
  {
   "cell_type": "code",
   "execution_count": 70,
   "metadata": {},
   "outputs": [],
   "source": [
    "import random\n",
    "import datetime\n",
    "class Sim:\n",
    "    name = None\n",
    "    age = None\n",
    "    mob = None\n",
    "    bal = None\n",
    "    def __init__(self):\n",
    "        self.name = input(\"Enter the name: \")\n",
    "        self.age = int(input(\"Enter the age: \"))\n",
    "        self.mob = random.randint(7000000000,9999999999)\n",
    "        self.bal = 50\n",
    "        self.rechargeHistory = []\n",
    "        self.callHistory = []\n",
    "        self.msgHistory = []\n",
    "\n",
    "    def display(self):\n",
    "        print(\"Name: \",self.name)\n",
    "        print(\"Age: \",self.age)\n",
    "        print(\"Mobile Number: \",self.mob)\n",
    "        print(\"Balance: \",self.bal)\n",
    "\n",
    "    def recharge(self,amount):\n",
    "        self.bal +=amount\n",
    "        self.rechargeHistory.append({'amount':amount,'date':datetime.datetime.now()})\n",
    "    \n",
    "    def call(self,person,min):\n",
    "        self.bal -=min*2\n",
    "        self.callHistory.append({'person_name':person.name,'person_mob':person.mob,'min':min,'date':datetime.datetime.now()})\n",
    "\n",
    "    def msg(self,person,msg):\n",
    "        self.bal -= 1\n",
    "        self.msgHistory.append({'person_name':person.name,'person_mob':person.mob,'msg':msg,'date':datetime.datetime.now()})\n",
    "\n",
    "    def viewRechargeHistory(self):\n",
    "        for i in self.rechargeHistory:\n",
    "            for k,v in i.items():\n",
    "                print(k,v)\n",
    "            print(\"*\".center(50,\"*\"))\n",
    "    def viewCallHistory(self):\n",
    "        for i in self.callHistory:\n",
    "            for k,v in i.items():\n",
    "                print(k,v)\n",
    "            print(\"*\".center(50,\"*\"))\n",
    "\n",
    "    def viewMessage(self):\n",
    "        for i in self.msgHistory:\n",
    "            for k,v in i.items():\n",
    "                print(k,v)\n",
    "            print(\"*\".center(50,\"*\"))"
   ]
  },
  {
   "cell_type": "code",
   "execution_count": 73,
   "metadata": {},
   "outputs": [],
   "source": [
    "a = Sim()"
   ]
  },
  {
   "cell_type": "code",
   "execution_count": 74,
   "metadata": {},
   "outputs": [],
   "source": [
    "b = Sim()"
   ]
  },
  {
   "cell_type": "code",
   "execution_count": 75,
   "metadata": {},
   "outputs": [],
   "source": [
    "a.call(b,20)"
   ]
  },
  {
   "cell_type": "code",
   "execution_count": 84,
   "metadata": {},
   "outputs": [],
   "source": [
    "b.msg(a,\"hi\")"
   ]
  },
  {
   "cell_type": "code",
   "execution_count": 77,
   "metadata": {},
   "outputs": [],
   "source": [
    "a.recharge(100)"
   ]
  },
  {
   "cell_type": "code",
   "execution_count": 78,
   "metadata": {},
   "outputs": [],
   "source": [
    "b.recharge(50)"
   ]
  },
  {
   "cell_type": "code",
   "execution_count": 79,
   "metadata": {},
   "outputs": [
    {
     "name": "stdout",
     "output_type": "stream",
     "text": [
      "Name:  dishu\n",
      "Age:  20\n",
      "Mobile Number:  8267562143\n",
      "Balance:  110\n"
     ]
    }
   ],
   "source": [
    "a.display()"
   ]
  },
  {
   "cell_type": "code",
   "execution_count": 80,
   "metadata": {},
   "outputs": [
    {
     "name": "stdout",
     "output_type": "stream",
     "text": [
      "Name:  shiva\n",
      "Age:  25\n",
      "Mobile Number:  9477692562\n",
      "Balance:  99\n"
     ]
    }
   ],
   "source": [
    "b.display()"
   ]
  },
  {
   "cell_type": "code",
   "execution_count": 81,
   "metadata": {},
   "outputs": [
    {
     "name": "stdout",
     "output_type": "stream",
     "text": [
      "amount 50\n",
      "date 2024-11-27 10:59:19.970537\n",
      "**************************************************\n"
     ]
    }
   ],
   "source": [
    "b.viewRechargeHistory()"
   ]
  },
  {
   "cell_type": "code",
   "execution_count": 82,
   "metadata": {},
   "outputs": [
    {
     "name": "stdout",
     "output_type": "stream",
     "text": [
      "person_name shiva\n",
      "person_mob 9477692562\n",
      "min 20\n",
      "date 2024-11-27 10:59:19.009834\n",
      "**************************************************\n"
     ]
    }
   ],
   "source": [
    "a.viewCallHistory()"
   ]
  },
  {
   "cell_type": "code",
   "execution_count": 85,
   "metadata": {},
   "outputs": [
    {
     "name": "stdout",
     "output_type": "stream",
     "text": [
      "person_name dishu\n",
      "person_mob 8267562143\n",
      "msg Hello\n",
      "date 2024-11-27 10:59:19.328511\n",
      "**************************************************\n",
      "person_name dishu\n",
      "person_mob 8267562143\n",
      "msg hi\n",
      "date 2024-11-27 10:59:48.751824\n",
      "**************************************************\n"
     ]
    }
   ],
   "source": [
    "b.viewMessage()"
   ]
  },
  {
   "cell_type": "code",
   "execution_count": 86,
   "metadata": {},
   "outputs": [],
   "source": [
    "class Bank:\n",
    "    name = None\n",
    "    acc = None\n",
    "    bal = None\n",
    "    def __init__(self):\n",
    "        self.name = input(\"Enter the name: \")\n",
    "        self.acc = random.randint(1000000000,9999999999)\n",
    "        self.bal = 0\n",
    "\n",
    "    def display(self):\n",
    "        print(\"Name: \",self.name)\n",
    "        print(\"Account Number: \",self.acc)\n",
    "        print(\"Balance: \",self.bal)\n",
    "\n",
    "    def deposit(self,amount):\n",
    "        self.bal += amount\n",
    "\n",
    "    def withdraw(self,amount):\n",
    "        if self.bal >= amount:\n",
    "            self.bal -= amount\n",
    "        else:\n",
    "            print(\"Insufficient Balance\")\n",
    "\n",
    "    def transfer(self,person,amount):\n",
    "        if self.bal >= amount:\n",
    "            self.bal -= amount\n",
    "            person.bal += amount\n",
    "        else:\n",
    "            print(\"Insufficient Balance\")"
   ]
  },
  {
   "cell_type": "code",
   "execution_count": 87,
   "metadata": {},
   "outputs": [],
   "source": [
    "a = Bank()"
   ]
  },
  {
   "cell_type": "code",
   "execution_count": 88,
   "metadata": {},
   "outputs": [],
   "source": [
    "b = Bank()"
   ]
  },
  {
   "cell_type": "code",
   "execution_count": 89,
   "metadata": {},
   "outputs": [],
   "source": [
    "a.deposit(1000)"
   ]
  },
  {
   "cell_type": "code",
   "execution_count": 90,
   "metadata": {},
   "outputs": [],
   "source": [
    "b.deposit(5000)"
   ]
  },
  {
   "cell_type": "code",
   "execution_count": 91,
   "metadata": {},
   "outputs": [
    {
     "name": "stdout",
     "output_type": "stream",
     "text": [
      "Name:  Shiva\n",
      "Account Number:  6996930821\n",
      "Balance:  1000\n"
     ]
    }
   ],
   "source": [
    "a.display()"
   ]
  },
  {
   "cell_type": "code",
   "execution_count": 92,
   "metadata": {},
   "outputs": [
    {
     "name": "stdout",
     "output_type": "stream",
     "text": [
      "Name:  Dishu\n",
      "Account Number:  6507181387\n",
      "Balance:  5000\n"
     ]
    }
   ],
   "source": [
    "b.display()"
   ]
  },
  {
   "cell_type": "code",
   "execution_count": 93,
   "metadata": {},
   "outputs": [],
   "source": [
    "b.transfer(a,2000)"
   ]
  },
  {
   "cell_type": "code",
   "execution_count": 94,
   "metadata": {},
   "outputs": [
    {
     "name": "stdout",
     "output_type": "stream",
     "text": [
      "Name:  Shiva\n",
      "Account Number:  6996930821\n",
      "Balance:  3000\n"
     ]
    }
   ],
   "source": [
    "a.display()"
   ]
  },
  {
   "cell_type": "code",
   "execution_count": 95,
   "metadata": {},
   "outputs": [
    {
     "name": "stdout",
     "output_type": "stream",
     "text": [
      "Name:  Dishu\n",
      "Account Number:  6507181387\n",
      "Balance:  3000\n"
     ]
    }
   ],
   "source": [
    "b.display()"
   ]
  },
  {
   "cell_type": "code",
   "execution_count": null,
   "metadata": {},
   "outputs": [],
   "source": [
    "# Inheritance\n",
    "    # it is a process of extending the properties of a class to another class"
   ]
  },
  {
   "cell_type": "code",
   "execution_count": 104,
   "metadata": {},
   "outputs": [],
   "source": [
    "class Android1:\n",
    "    def __init__(self):\n",
    "        print(\"Android1 class constructor\")\n",
    "    \n",
    "    def call(self):\n",
    "        print(\"Calling from gsm network\")\n",
    "\n",
    "class Android2(Android1):\n",
    "    def __init__(self):\n",
    "        print(\"Android2 class constructor\")\n",
    "\n",
    "    def call(self):\n",
    "        print(\"Calling from cdma network\")\n",
    "    \n",
    "    def sms(self):\n",
    "        print(\"Sending sms from Android2\")"
   ]
  },
  {
   "cell_type": "code",
   "execution_count": 105,
   "metadata": {},
   "outputs": [
    {
     "name": "stdout",
     "output_type": "stream",
     "text": [
      "Android1 class constructor\n",
      "Android2 class constructor\n"
     ]
    }
   ],
   "source": [
    "mob1 = Android1()\n",
    "mob2 = Android2()\n"
   ]
  },
  {
   "cell_type": "code",
   "execution_count": 106,
   "metadata": {},
   "outputs": [
    {
     "name": "stdout",
     "output_type": "stream",
     "text": [
      "Calling from gsm network\n"
     ]
    }
   ],
   "source": [
    "mob1.call()"
   ]
  },
  {
   "cell_type": "code",
   "execution_count": 107,
   "metadata": {},
   "outputs": [
    {
     "name": "stdout",
     "output_type": "stream",
     "text": [
      "Calling from cdma network\n"
     ]
    }
   ],
   "source": [
    "mob2.call()"
   ]
  },
  {
   "cell_type": "code",
   "execution_count": null,
   "metadata": {},
   "outputs": [],
   "source": []
  }
 ],
 "metadata": {
  "kernelspec": {
   "display_name": "base",
   "language": "python",
   "name": "python3"
  },
  "language_info": {
   "codemirror_mode": {
    "name": "ipython",
    "version": 3
   },
   "file_extension": ".py",
   "mimetype": "text/x-python",
   "name": "python",
   "nbconvert_exporter": "python",
   "pygments_lexer": "ipython3",
   "version": "3.1.0"
  }
 },
 "nbformat": 4,
 "nbformat_minor": 2
}
