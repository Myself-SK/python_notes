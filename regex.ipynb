{
 "cells": [
  {
   "cell_type": "code",
   "execution_count": null,
   "metadata": {},
   "outputs": [],
   "source": [
    "# . -> any character except new line\n",
    "# a -> recognises that individual character\n",
    "# * -> 0 or more occurences\n",
    "# + -> 1 or more occurences\n",
    "# ? -> 0 or 1 occurences \n",
    "# {n} -> n occurences\n",
    "# {m,n} -> m to n occurences\n",
    "# () -> group\n",
    "# [a-z] -> character set\n",
    "# [^a-z] -> except character set"
   ]
  },
  {
   "cell_type": "code",
   "execution_count": null,
   "metadata": {},
   "outputs": [],
   "source": [
    "# \\d -> for one digit\n",
    "# \\D -> for non digit\n",
    "# \\s -> for space\n",
    "# \\S -> for non space\n",
    "# \\w -> for word\n",
    "# \\W -> for non word"
   ]
  },
  {
   "cell_type": "code",
   "execution_count": null,
   "metadata": {},
   "outputs": [],
   "source": [
    "# ^ -> start of the string\n",
    "# $ -> end of the string"
   ]
  },
  {
   "cell_type": "code",
   "execution_count": 1,
   "metadata": {},
   "outputs": [],
   "source": [
    "import re"
   ]
  },
  {
   "cell_type": "code",
   "execution_count": 15,
   "metadata": {},
   "outputs": [],
   "source": [
    "s = \"Lorem ipsum dolor sit, amet consectetur adipisicing elit. Unde nobis neque ipsa, nostrum fugit voluptatum veniam accusamus aspernatur maiores esse in iure dignissimos magnam quae. Voluptatem sed aperiam delectus maiores.\""
   ]
  },
  {
   "cell_type": "code",
   "execution_count": 5,
   "metadata": {},
   "outputs": [
    {
     "data": {
      "text/plain": [
       "['ex', 'ex']"
      ]
     },
     "execution_count": 5,
     "metadata": {},
     "output_type": "execute_result"
    }
   ],
   "source": [
    "re.findall('ex',s)"
   ]
  },
  {
   "cell_type": "code",
   "execution_count": 7,
   "metadata": {},
   "outputs": [],
   "source": [
    "l = re.finditer('ex',s)"
   ]
  },
  {
   "cell_type": "code",
   "execution_count": 8,
   "metadata": {},
   "outputs": [
    {
     "name": "stdout",
     "output_type": "stream",
     "text": [
      "<re.Match object; span=(11, 13), match='ex'>\n",
      "<re.Match object; span=(25, 27), match='ex'>\n"
     ]
    }
   ],
   "source": [
    "for i in l:\n",
    "    print(i)"
   ]
  },
  {
   "cell_type": "code",
   "execution_count": 19,
   "metadata": {},
   "outputs": [
    {
     "name": "stdout",
     "output_type": "stream",
     "text": [
      "Lorem ipsum dolor sit, amet consectetur adipisicing elit. Unde nobis neque ipsa, nostrum fugit voluptatum veniam accusamus aspernatur maiores esse in iure dignissimos magnam quae. Voluptatem sed aperiam delectus maiores.\n"
     ]
    }
   ],
   "source": [
    "print(s)"
   ]
  },
  {
   "cell_type": "code",
   "execution_count": 24,
   "metadata": {},
   "outputs": [
    {
     "name": "stdout",
     "output_type": "stream",
     "text": [
      "ipsum\n",
      "adipisicing\n",
      "ipsa,\n"
     ]
    }
   ],
   "source": [
    "# findall words starting with v\n",
    "l = s.split()\n",
    "for i in l:\n",
    "    res = re.finditer('ip',i,re.I)\n",
    "    for j in res:\n",
    "        print(i)\n"
   ]
  },
  {
   "cell_type": "code",
   "execution_count": 30,
   "metadata": {},
   "outputs": [],
   "source": [
    "data = \"\"\"ShivaKumar M 6362-537_729 me.mrperfect143@gmail.com Male\n",
    "Dishan Krishna 6362_571-729 dishan@gmail.com Male\n",
    "Mamatha 6362-537-123 me.mamatha@gmail.com Female\n",
    "\"\"\""
   ]
  },
  {
   "cell_type": "code",
   "execution_count": 31,
   "metadata": {},
   "outputs": [
    {
     "name": "stdout",
     "output_type": "stream",
     "text": [
      "6362-537_729\n",
      "6362_571-729\n",
      "6362-537-123\n"
     ]
    },
    {
     "name": "stderr",
     "output_type": "stream",
     "text": [
      "<>:2: SyntaxWarning: invalid escape sequence '\\d'\n",
      "<>:2: SyntaxWarning: invalid escape sequence '\\d'\n",
      "/var/folders/p9/krmkj3g17fg0tk8ht27lq40r0000gn/T/ipykernel_3484/522683544.py:2: SyntaxWarning: invalid escape sequence '\\d'\n",
      "  res = re.finditer('\\d{4}(-|_)+\\d{3}(-|_)+\\d{3}',data)\n"
     ]
    }
   ],
   "source": [
    "# regex to extract mobile numbers\n",
    "res = re.finditer('\\d{4}(-|_)+\\d{3}(-|_)+\\d{3}',data)\n",
    "for i in res:\n",
    "    print(i.group())"
   ]
  },
  {
   "cell_type": "code",
   "execution_count": 57,
   "metadata": {},
   "outputs": [
    {
     "data": {
      "text/plain": [
       "'ShivaKumar M 6362-537_729 me.mrperfect143@gmail.com Male\\nDishan Krishna 6362_571-729 dishan@gmail.com Male\\nMamatha 6362-537-123 me.mamatha@gmail.com Female\\n'"
      ]
     },
     "execution_count": 57,
     "metadata": {},
     "output_type": "execute_result"
    }
   ],
   "source": [
    "data"
   ]
  },
  {
   "cell_type": "code",
   "execution_count": 66,
   "metadata": {},
   "outputs": [
    {
     "name": "stdout",
     "output_type": "stream",
     "text": [
      "ShivaKumar M\n",
      "Dishan Krishna\n",
      "Mamatha \n"
     ]
    }
   ],
   "source": [
    "# to get names from data\n",
    "pat = re.compile(r'([A-Z][a-z]+)+ +(([A-Z][a-z]*)+)*')\n",
    "res = pat.finditer(data)\n",
    "for i in res:\n",
    "    print(i.group())"
   ]
  },
  {
   "cell_type": "code",
   "execution_count": 67,
   "metadata": {},
   "outputs": [
    {
     "name": "stdout",
     "output_type": "stream",
     "text": [
      "me.mrperfect143@gmail.com\n",
      "dishan@gmail.com\n",
      "me.mamatha@gmail.com\n"
     ]
    }
   ],
   "source": [
    "# pattern to get email from data\n",
    "email_pat = re.compile(r'[a-zA-Z0-9._]+@[a-zA-Z0-9._]+')\n",
    "res = email_pat.finditer(data)\n",
    "for i in res:\n",
    "    print(i.group())"
   ]
  },
  {
   "cell_type": "code",
   "execution_count": 68,
   "metadata": {},
   "outputs": [
    {
     "name": "stdout",
     "output_type": "stream",
     "text": [
      "Male\n",
      "Male\n",
      "Female\n"
     ]
    }
   ],
   "source": [
    "gen_format = re.compile(r'Male|Female')\n",
    "res = gen_format.finditer(data)\n",
    "for i in res:\n",
    "    print(i.group())"
   ]
  },
  {
   "cell_type": "code",
   "execution_count": null,
   "metadata": {},
   "outputs": [],
   "source": []
  }
 ],
 "metadata": {
  "kernelspec": {
   "display_name": "base",
   "language": "python",
   "name": "python3"
  },
  "language_info": {
   "codemirror_mode": {
    "name": "ipython",
    "version": 3
   },
   "file_extension": ".py",
   "mimetype": "text/x-python",
   "name": "python",
   "nbconvert_exporter": "python",
   "pygments_lexer": "ipython3",
   "version": "3.12.7"
  }
 },
 "nbformat": 4,
 "nbformat_minor": 2
}
