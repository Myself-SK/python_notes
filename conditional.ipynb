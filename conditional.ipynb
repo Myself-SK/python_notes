{
 "cells": [
  {
   "cell_type": "raw",
   "metadata": {},
   "source": [
    "Conditional Statements:\n",
    "    to apply a condition to a block of code we use conditional statements\n",
    "    - if\n",
    "    - else\n",
    "    - elif ladder\n",
    "    - nested if"
   ]
  },
  {
   "cell_type": "raw",
   "metadata": {},
   "source": [
    "syntax:\n",
    "\n",
    "if(cond):statement\n",
    "\n",
    "if cond:\n",
    "    statement\n",
    "    statement\n",
    "    statement\n",
    "statement"
   ]
  },
  {
   "cell_type": "code",
   "execution_count": 11,
   "metadata": {},
   "outputs": [],
   "source": [
    "a=100\n",
    "b=100\n",
    "if a>b:print(\"a is greater than b\")\n",
    "if b>a:\n",
    "    print(\"b is greater then a\")"
   ]
  },
  {
   "cell_type": "code",
   "execution_count": 10,
   "metadata": {},
   "outputs": [
    {
     "name": "stdout",
     "output_type": "stream",
     "text": [
      "b is greater then a\n"
     ]
    }
   ],
   "source": [
    "a=100\n",
    "b=100\n",
    "if a>b:print(\"a is greater than b\")\n",
    "else:\n",
    "    print(\"b is greater then a\")"
   ]
  },
  {
   "cell_type": "code",
   "execution_count": 18,
   "metadata": {},
   "outputs": [
    {
     "name": "stdout",
     "output_type": "stream",
     "text": [
      "A==10\n"
     ]
    }
   ],
   "source": [
    "a=10\n",
    "if a>10:\n",
    "    print(\"A>=10\")\n",
    "elif a<10:\n",
    "    print(\"A<=10\")\n",
    "elif a!=10:\n",
    "    print(\"A!=10\")\n",
    "else:\n",
    "    print(\"A==10\")"
   ]
  },
  {
   "cell_type": "code",
   "execution_count": 19,
   "metadata": {},
   "outputs": [
    {
     "name": "stdout",
     "output_type": "stream",
     "text": [
      "A>=10\n",
      "A<=10\n",
      "A!=10\n"
     ]
    }
   ],
   "source": [
    "a=10\n",
    "if a>=10:\n",
    "    print(\"A>=10\")\n",
    "if a<=10:\n",
    "    print(\"A<=10\")\n",
    "if a!=10:\n",
    "    print(\"A==10\")\n",
    "else:\n",
    "    print(\"A!=10\")"
   ]
  },
  {
   "cell_type": "code",
   "execution_count": null,
   "metadata": {},
   "outputs": [],
   "source": [
    "a=10\n",
    "b=20\n",
    "c=30\n",
    "if a>b:\n",
    "    if a>c:\n",
    "        print(\"a is greater\")\n",
    "    else:\n",
    "        print(\"c is greater\")\n",
    "else:\n",
    "    if b>c:\n",
    "        print(\"b is greater\")\n",
    "    else:\n",
    "        print(\"c is greater\")"
   ]
  },
  {
   "cell_type": "code",
   "execution_count": 23,
   "metadata": {},
   "outputs": [
    {
     "name": "stdout",
     "output_type": "stream",
     "text": [
      "You can donate blood\n"
     ]
    }
   ],
   "source": [
    "age = 20\n",
    "weight = 60\n",
    "lastDonated = 90\n",
    "if age > 18:\n",
    "    if weight > 50:\n",
    "        if lastDonated > 60:\n",
    "            print(\"You can donate blood\")\n",
    "else:\n",
    "    print(\"You can't donate blood\")"
   ]
  },
  {
   "cell_type": "raw",
   "metadata": {},
   "source": [
    "* largest 2 number\n",
    "* even and odd\n",
    "* positive and negative\n",
    "* largest of 3 number using if-elif\n"
   ]
  },
  {
   "cell_type": "raw",
   "metadata": {},
   "source": [
    "Op:\n",
    "Enter total number of Prod: 50\n",
    "Enter the price of Prod: 100\n",
    "total: 5000\n",
    "Discount: 500\n",
    "Net: 4500\n",
    "\n",
    "\n",
    "Enter total number of Prod: 5\n",
    "Enter the price of Prod: 100\n",
    "total: 500\n",
    "Discount: 0\n",
    "Net: 500"
   ]
  },
  {
   "cell_type": "raw",
   "metadata": {},
   "source": [
    "Op:\n",
    "Enter Hour: \n",
    "4-12:\n",
    "Good Morning\n",
    "12- 16:\n",
    "Good Afternoon\n",
    "16-20:\n",
    "Good Evening\n",
    "20:4:\n",
    "Good night\n",
    "\n",
    "<0 >=24:\n",
    "Invalid Time"
   ]
  },
  {
   "cell_type": "raw",
   "metadata": {},
   "source": [
    "Enter Year of Birth: 2002\n",
    "You are eligible for votex\n",
    "\n",
    "Enter Year of Birth: 2020\n",
    "Please wait 14 years to vote"
   ]
  },
  {
   "cell_type": "raw",
   "metadata": {},
   "source": [
    "Enter total Units Consumed: \n",
    "\n",
    "<100: unit* 2\n",
    "\n",
    ">100 & <300: first 100 * 2 + next <200 * 3\n",
    ">300 & <500: first 100 * 2 + next 200 * 3 + next <200 * 4\n",
    ">500: first 100 * 2 + next 200 * 3 + next 200 * 4 + next * 5\n",
    "\n",
    "\n",
    "Enter total Units Consumed: \n",
    "350\n",
    "100*2+200*3+50*4 = 1000"
   ]
  },
  {
   "cell_type": "code",
   "execution_count": null,
   "metadata": {},
   "outputs": [],
   "source": []
  }
 ],
 "metadata": {
  "kernelspec": {
   "display_name": "base",
   "language": "python",
   "name": "python3"
  },
  "language_info": {
   "codemirror_mode": {
    "name": "ipython",
    "version": 3
   },
   "file_extension": ".py",
   "mimetype": "text/x-python",
   "name": "python",
   "nbconvert_exporter": "python",
   "pygments_lexer": "ipython3",
   "version": "3.11.7"
  }
 },
 "nbformat": 4,
 "nbformat_minor": 2
}
