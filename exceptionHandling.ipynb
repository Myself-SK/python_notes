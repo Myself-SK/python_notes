{
 "cells": [
  {
   "cell_type": "code",
   "execution_count": 1,
   "metadata": {},
   "outputs": [],
   "source": [
    "a = int(input())\n",
    "b = int(input())\n",
    "print(a)\n",
    "print(b)\n",
    "d = a/b\n",
    "print(d)"
   ]
  },
  {
   "cell_type": "code",
   "execution_count": 17,
   "metadata": {},
   "outputs": [
    {
     "ename": "ZeroDivisionError",
     "evalue": "division by zero",
     "output_type": "error",
     "traceback": [
      "\u001b[0;31m---------------------------------------------------------------------------\u001b[0m",
      "\u001b[0;31mZeroDivisionError\u001b[0m                         Traceback (most recent call last)",
      "Cell \u001b[0;32mIn[17], line 6\u001b[0m\n\u001b[1;32m      4\u001b[0m a\u001b[38;5;241m=\u001b[39m\u001b[38;5;241m10\u001b[39m\n\u001b[1;32m      5\u001b[0m b\u001b[38;5;241m=\u001b[39m\u001b[38;5;241m0\u001b[39m\n\u001b[0;32m----> 6\u001b[0m d \u001b[38;5;241m=\u001b[39m a\u001b[38;5;241m/\u001b[39mb\n\u001b[1;32m      7\u001b[0m cursor\u001b[38;5;241m.\u001b[39mclose()\n\u001b[1;32m      8\u001b[0m conn\u001b[38;5;241m.\u001b[39mclose()\n",
      "\u001b[0;31mZeroDivisionError\u001b[0m: division by zero"
     ]
    }
   ],
   "source": [
    "import pymysql\n",
    "conn = pymysql.connect(host='localhost', user='root', password='', db='emp_new')\n",
    "cursor = conn.cursor()\n",
    "a=10\n",
    "b=0\n",
    "d = a/b\n",
    "cursor.close()\n",
    "conn.close()\n",
    "cursor.execute(\"SELECT * FROM Employee\")\n",
    "cursor.fetchall()\n"
   ]
  },
  {
   "cell_type": "code",
   "execution_count": 18,
   "metadata": {},
   "outputs": [
    {
     "data": {
      "text/plain": [
       "((1, 'Shiva', 25, 1, 20000),\n",
       " (2, 'Vishnu', 24, 2, 17000),\n",
       " (3, 'Dishan', 30, 1, 45000),\n",
       " (4, 'Vishnu', 30, 3, 30000))"
      ]
     },
     "execution_count": 18,
     "metadata": {},
     "output_type": "execute_result"
    }
   ],
   "source": [
    "cursor.execute(\"SELECT * FROM Employee\")\n",
    "cursor.fetchall()"
   ]
  },
  {
   "cell_type": "code",
   "execution_count": null,
   "metadata": {},
   "outputs": [],
   "source": [
    "# Exception Handling:\n",
    "#     It is used to handle the runtime errors.\n",
    "#     try:\n",
    "#         code which may raise exception\n",
    "#     except:\n",
    "#         code to handle exception\n",
    "#     finally:\n",
    "#         code which will always execute"
   ]
  },
  {
   "cell_type": "code",
   "execution_count": 20,
   "metadata": {},
   "outputs": [
    {
     "name": "stdout",
     "output_type": "stream",
     "text": [
      "Denominator should not be zero\n",
      "0\n"
     ]
    }
   ],
   "source": [
    "try:\n",
    "    a = int(input())\n",
    "    b = int(input())\n",
    "    d=0\n",
    "    d = a/b\n",
    "except:\n",
    "    print(\"Denominator should not be zero\")\n",
    "finally:\n",
    "    print(d)\n"
   ]
  },
  {
   "cell_type": "code",
   "execution_count": 21,
   "metadata": {},
   "outputs": [
    {
     "name": "stdout",
     "output_type": "stream",
     "text": [
      "[Errno 2] No such file or directory: 'test.txt'\n"
     ]
    }
   ],
   "source": [
    "try:\n",
    "    f = open('test.txt')\n",
    "    print(f.read())\n",
    "except Exception as e:\n",
    "    print(e)\n"
   ]
  },
  {
   "cell_type": "code",
   "execution_count": 32,
   "metadata": {},
   "outputs": [
    {
     "name": "stdout",
     "output_type": "stream",
     "text": [
      "KeyError\n",
      "5\n"
     ]
    }
   ],
   "source": [
    "try:\n",
    "    d = {1:2, 2:3, 3:4}\n",
    "    print(d[5])\n",
    "except Exception as e:\n",
    "    print(e.__class__.__name__)\n",
    "    print(e)\n"
   ]
  },
  {
   "cell_type": "code",
   "execution_count": 35,
   "metadata": {},
   "outputs": [
    {
     "name": "stdout",
     "output_type": "stream",
     "text": [
      "[Errno 2] No such file or directory: 'test.txt'\n"
     ]
    }
   ],
   "source": [
    "try:\n",
    "    a = int(input())\n",
    "    b = int(input())\n",
    "    d = a/b\n",
    "    f = open('test.txt')\n",
    "except (ZeroDivisionError,FileNotFoundError) as e:\n",
    "    print(e)"
   ]
  },
  {
   "cell_type": "code",
   "execution_count": 38,
   "metadata": {},
   "outputs": [
    {
     "name": "stdout",
     "output_type": "stream",
     "text": [
      "Exception Occured\n",
      "Connection Closed\n"
     ]
    }
   ],
   "source": [
    "import pymysql\n",
    "try:\n",
    "    conn = pymysql.connect(host='localhost', user='root', password='', db='emp_ne')\n",
    "    cursor = conn.cursor()\n",
    "    a=10\n",
    "    b=0\n",
    "    d = a/b\n",
    "    cursor.execute(\"SELECT * FROM Employee\")\n",
    "    cursor.fetchall()\n",
    "except:\n",
    "    print(\"Exception Occured\")\n",
    "finally:\n",
    "    try:\n",
    "        cursor.close()\n",
    "        conn.close()\n",
    "    except:\n",
    "        print(\"Connection Closed\")"
   ]
  },
  {
   "cell_type": "code",
   "execution_count": 45,
   "metadata": {},
   "outputs": [],
   "source": [
    "try:\n",
    "    a = int(input(\"it should be less then 6 and greater then 0: \"))\n",
    "    if a<0 or a>6:\n",
    "        raise ValueError(\"Value should be between 0 and 6\")\n",
    "except Exception as e:\n",
    "    print(e)\n",
    "    print(e.__class__.__name__)"
   ]
  },
  {
   "cell_type": "code",
   "execution_count": 40,
   "metadata": {},
   "outputs": [
    {
     "ename": "ValueError",
     "evalue": "Value should be between 0 and 6",
     "output_type": "error",
     "traceback": [
      "\u001b[0;31m---------------------------------------------------------------------------\u001b[0m",
      "\u001b[0;31mValueError\u001b[0m                                Traceback (most recent call last)",
      "Cell \u001b[0;32mIn[40], line 3\u001b[0m\n\u001b[1;32m      1\u001b[0m a \u001b[38;5;241m=\u001b[39m \u001b[38;5;28mint\u001b[39m(\u001b[38;5;28minput\u001b[39m(\u001b[38;5;124m\"\u001b[39m\u001b[38;5;124mit should be less then 6 and greater then 0: \u001b[39m\u001b[38;5;124m\"\u001b[39m))\n\u001b[1;32m      2\u001b[0m \u001b[38;5;28;01mif\u001b[39;00m a\u001b[38;5;241m<\u001b[39m\u001b[38;5;241m0\u001b[39m \u001b[38;5;129;01mor\u001b[39;00m a\u001b[38;5;241m>\u001b[39m\u001b[38;5;241m6\u001b[39m:\n\u001b[0;32m----> 3\u001b[0m     \u001b[38;5;28;01mraise\u001b[39;00m \u001b[38;5;167;01mValueError\u001b[39;00m(\u001b[38;5;124m\"\u001b[39m\u001b[38;5;124mValue should be between 0 and 6\u001b[39m\u001b[38;5;124m\"\u001b[39m)\n",
      "\u001b[0;31mValueError\u001b[0m: Value should be between 0 and 6"
     ]
    }
   ],
   "source": [
    "a = int(input(\"it should be less then 6 and greater then 0: \"))\n",
    "if a<0 or a>6:\n",
    "    raise ValueError(\"Value should be between 0 and 6\")"
   ]
  },
  {
   "cell_type": "code",
   "execution_count": null,
   "metadata": {},
   "outputs": [],
   "source": []
  }
 ],
 "metadata": {
  "kernelspec": {
   "display_name": "base",
   "language": "python",
   "name": "python3"
  },
  "language_info": {
   "codemirror_mode": {
    "name": "ipython",
    "version": 3
   },
   "file_extension": ".py",
   "mimetype": "text/x-python",
   "name": "python",
   "nbconvert_exporter": "python",
   "pygments_lexer": "ipython3",
   "version": "3.11.7"
  }
 },
 "nbformat": 4,
 "nbformat_minor": 2
}
