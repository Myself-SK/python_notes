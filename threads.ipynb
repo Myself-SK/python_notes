{
 "cells": [
  {
   "cell_type": "code",
   "execution_count": null,
   "metadata": {},
   "outputs": [],
   "source": [
    "# Threads:\n",
    "#     * Smallest executable unit in System\n",
    "#     * it is used to enable parallel processing in python\n",
    "#     * it is a single thread"
   ]
  },
  {
   "cell_type": "code",
   "execution_count": 1,
   "metadata": {},
   "outputs": [],
   "source": [
    "import time\n",
    "\n",
    "\n",
    "def sleep(name):\n",
    "    print(f\"{name} is going to sleep\")\n",
    "    time.sleep(5)\n",
    "    print(f\"{name} is awake\")"
   ]
  },
  {
   "cell_type": "code",
   "execution_count": 3,
   "metadata": {},
   "outputs": [
    {
     "name": "stdout",
     "output_type": "stream",
     "text": [
      "A is going to sleep\n",
      "A is awake\n",
      "B is going to sleep\n",
      "B is awake\n",
      "C is going to sleep\n",
      "C is awake\n",
      "D is going to sleep\n",
      "D is awake\n",
      "E is going to sleep\n",
      "E is awake\n"
     ]
    }
   ],
   "source": [
    "l = [\"A\", \"B\", \"C\", \"D\", \"E\"]\n",
    "for i in l:\n",
    "    sleep(i)"
   ]
  },
  {
   "cell_type": "code",
   "execution_count": 16,
   "metadata": {},
   "outputs": [
    {
     "name": "stdout",
     "output_type": "stream",
     "text": [
      "A is going to sleep\n",
      "B is going to sleep\n",
      "C is going to sleep\n",
      "D is going to sleep\n",
      "E is going to sleep\n",
      "A is awake\n"
     ]
    },
    {
     "name": "stdout",
     "output_type": "stream",
     "text": [
      "B is awake\n",
      "C is awake\n",
      "D is awake\n",
      "E is awake\n"
     ]
    }
   ],
   "source": [
    "from threading import Thread\n",
    "l = [\"A\", \"B\", \"C\", \"D\", \"E\"]\n",
    "for i in l:\n",
    "    t = Thread(target=sleep, args=(i))\n",
    "    t.start()\n",
    "    time.sleep(1)"
   ]
  },
  {
   "cell_type": "code",
   "execution_count": 13,
   "metadata": {},
   "outputs": [
    {
     "name": "stdout",
     "output_type": "stream",
     "text": [
      "item1 is going to sleep\n",
      "item2 is going to sleep\n",
      "item3 is going to sleep\n",
      "item4 is going to sleep\n",
      "item5 is going to sleep\n"
     ]
    }
   ],
   "source": [
    "import concurrent.futures\n",
    "\n",
    "\n",
    "\n",
    "batch = [\"item1\", \"item2\", \"item3\", \"item4\", \"item5\"]\n",
    "\n",
    "with concurrent.futures.ThreadPoolExecutor() as executor:\n",
    "    executor.map(sleep, batch)\n"
   ]
  },
  {
   "cell_type": "code",
   "execution_count": 18,
   "metadata": {},
   "outputs": [
    {
     "name": "stdout",
     "output_type": "stream",
     "text": [
      "Process Initiated\n",
      "A is going to sleep\n",
      "B is going to sleep\n",
      "C is going to sleep\n",
      "A is awakeC is awake\n",
      "D is going to sleep\n",
      "\n",
      "E is going to sleep\n",
      "None\n",
      "None\n",
      "B is awake\n",
      "None\n",
      "E is awake\n",
      "None\n",
      "D is awake\n",
      "None\n",
      "Process Completed\n"
     ]
    }
   ],
   "source": [
    "from concurrent.futures import ThreadPoolExecutor,as_completed\n",
    "\n",
    "def sleep(name):\n",
    "    print(f\"{name} is going to sleep\")\n",
    "    time.sleep(5)\n",
    "    print(f\"{name} is awake\")\n",
    "\n",
    "def process_batches(batch):\n",
    "    print(f'Process Initiated')\n",
    "    with ThreadPoolExecutor(max_workers=3) as executor:\n",
    "        futures = [executor.submit(sleep, item) for item in batch]\n",
    "        results = []\n",
    "        for future in as_completed(futures):\n",
    "            try:\n",
    "                result = future.result()\n",
    "                print(result)\n",
    "            except Exception as e:\n",
    "                print(e)\n",
    "                print(f\"Error processing item: {e}\")\n",
    "    print(f'Process Completed')\n",
    "\n",
    "process_batches(l)"
   ]
  },
  {
   "cell_type": "code",
   "execution_count": null,
   "metadata": {},
   "outputs": [],
   "source": []
  }
 ],
 "metadata": {
  "kernelspec": {
   "display_name": "base",
   "language": "python",
   "name": "python3"
  },
  "language_info": {
   "codemirror_mode": {
    "name": "ipython",
    "version": 3
   },
   "file_extension": ".py",
   "mimetype": "text/x-python",
   "name": "python",
   "nbconvert_exporter": "python",
   "pygments_lexer": "ipython3",
   "version": "3.11.7"
  }
 },
 "nbformat": 4,
 "nbformat_minor": 2
}
