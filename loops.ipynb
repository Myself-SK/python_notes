{
 "cells": [
  {
   "cell_type": "markdown",
   "metadata": {},
   "source": [
    "loop:\n",
    "*   for\n",
    "* while"
   ]
  },
  {
   "cell_type": "raw",
   "metadata": {},
   "source": [
    "range(start=0,end,step=1)"
   ]
  },
  {
   "cell_type": "code",
   "execution_count": 1,
   "metadata": {},
   "outputs": [
    {
     "data": {
      "text/plain": [
       "range(0, 10)"
      ]
     },
     "execution_count": 1,
     "metadata": {},
     "output_type": "execute_result"
    }
   ],
   "source": [
    "range(10)"
   ]
  },
  {
   "cell_type": "code",
   "execution_count": 9,
   "metadata": {},
   "outputs": [
    {
     "name": "stdout",
     "output_type": "stream",
     "text": [
      "0 1 2 3 4 5 6 7 8 9 "
     ]
    }
   ],
   "source": [
    "for i in range(10):\n",
    "    print(i,end=' ')"
   ]
  },
  {
   "cell_type": "raw",
   "metadata": {},
   "source": [
    "for i in (0,1,2,3,4,5,6,7,8,9):\n",
    "    print(i,end=\" \")"
   ]
  },
  {
   "cell_type": "markdown",
   "metadata": {},
   "source": [
    "while(cond):\n",
    "    loop body"
   ]
  },
  {
   "cell_type": "code",
   "execution_count": 10,
   "metadata": {},
   "outputs": [
    {
     "name": "stdout",
     "output_type": "stream",
     "text": [
      "1 2 3 4 5 6 7 8 9 10 "
     ]
    }
   ],
   "source": [
    "i=1\n",
    "while i<=10:\n",
    "    print(i,end=\" \")\n",
    "    i+=1"
   ]
  },
  {
   "cell_type": "raw",
   "metadata": {},
   "source": [
    "Control Statements:\n",
    "    * break\n",
    "    * continue\n",
    "    * pass"
   ]
  },
  {
   "cell_type": "code",
   "execution_count": 14,
   "metadata": {},
   "outputs": [
    {
     "name": "stdout",
     "output_type": "stream",
     "text": [
      "1\n",
      "2\n",
      "3\n",
      "4\n"
     ]
    }
   ],
   "source": [
    "for i in range(1,10):\n",
    "    if i==5:\n",
    "        break\n",
    "    print(i)"
   ]
  },
  {
   "cell_type": "code",
   "execution_count": 12,
   "metadata": {},
   "outputs": [
    {
     "name": "stdout",
     "output_type": "stream",
     "text": [
      "1\n",
      "2\n",
      "3\n",
      "4\n"
     ]
    }
   ],
   "source": [
    "i=1\n",
    "while i<=10:\n",
    "    if i==5:\n",
    "        break\n",
    "    print(i)\n",
    "    i+=1"
   ]
  },
  {
   "cell_type": "code",
   "execution_count": 23,
   "metadata": {},
   "outputs": [
    {
     "name": "stdout",
     "output_type": "stream",
     "text": [
      "1\n",
      "2\n",
      "3\n",
      "4\n",
      "5\n",
      "6\n",
      "7\n",
      "8\n",
      "9\n",
      "10\n"
     ]
    }
   ],
   "source": [
    "for i in range(1,11):\n",
    "    if i==5:\n",
    "        pass\n",
    "    print(i)"
   ]
  },
  {
   "cell_type": "code",
   "execution_count": 20,
   "metadata": {},
   "outputs": [
    {
     "name": "stdout",
     "output_type": "stream",
     "text": [
      "1\n",
      "2\n",
      "3\n",
      "4\n",
      "6\n",
      "7\n",
      "8\n",
      "9\n",
      "10\n"
     ]
    }
   ],
   "source": [
    "i=1\n",
    "while i<=10:\n",
    "    if i==5:\n",
    "        i+=1\n",
    "        continue\n",
    "    print(i)\n",
    "    i+=1"
   ]
  },
  {
   "cell_type": "code",
   "execution_count": 24,
   "metadata": {},
   "outputs": [
    {
     "name": "stdout",
     "output_type": "stream",
     "text": [
      "0*1*2*3*4*5*6*7*8*9*\n",
      "1-2-3-4-5-6-7-8-9-\n",
      "1**3**5**7**9**"
     ]
    }
   ],
   "source": [
    "for i in range(10):print(i,end=\"*\")\n",
    "print()\n",
    "for i in range(1,10):print(i,end=\"-\")\n",
    "print()\n",
    "for i in range(1,10,2):print(i,end=\"**\")\n"
   ]
  },
  {
   "cell_type": "code",
   "execution_count": 2,
   "metadata": {},
   "outputs": [
    {
     "name": "stdout",
     "output_type": "stream",
     "text": [
      "1 2 3 4 5 6 7 8 9 10 11 12 13 14 15 "
     ]
    }
   ],
   "source": [
    "#read n from user and display 1 to n\n",
    "n = int(input(\"Enter n: \"))\n",
    "for i in range(1,n+1):\n",
    "    print(i,end=\" \")\n",
    "\n",
    "n = int(input(\"Enter n: \"))\n",
    "i=1\n",
    "while i<=n:\n",
    "    print(i,end=\" \")\n",
    "    i+=1"
   ]
  },
  {
   "cell_type": "code",
   "execution_count": 4,
   "metadata": {},
   "outputs": [
    {
     "name": "stdout",
     "output_type": "stream",
     "text": [
      "10 9 8 7 6 5 4 3 2 1 "
     ]
    }
   ],
   "source": [
    "#read n from user and display n to 1\n",
    "# n = int(input(\"Enter n: \"))\n",
    "# for i in range(n,0,-1):\n",
    "#     print(i,end=\" \")\n",
    "\n",
    "n = int(input(\"Enter n: \"))\n",
    "i=n\n",
    "while i>=1:\n",
    "    print(i,end=\" \")\n",
    "    i-=1"
   ]
  },
  {
   "cell_type": "code",
   "execution_count": 9,
   "metadata": {},
   "outputs": [
    {
     "name": "stdout",
     "output_type": "stream",
     "text": [
      "2 4 6 8 10 12 14 16 18 20 "
     ]
    }
   ],
   "source": [
    "#read n from user and display even numbers\n",
    "# n = int(input(\"Enter n: \"))\n",
    "# for i in range(1,n+1):\n",
    "#     if i%2==0:\n",
    "#         print(i,end=\" \")\n",
    "\n",
    "\n",
    "n = int(input(\"Enter n: \"))\n",
    "i=1\n",
    "while i<=n:\n",
    "    if i%2==0:\n",
    "        print(i,end=\" \")\n",
    "    i+=1"
   ]
  },
  {
   "cell_type": "code",
   "execution_count": 12,
   "metadata": {},
   "outputs": [
    {
     "name": "stdout",
     "output_type": "stream",
     "text": [
      "1 3 5 7 9 11 13 15 17 19 "
     ]
    }
   ],
   "source": [
    "#read n from user and display odd numbers\n",
    "# n = int(input(\"Enter n: \"))\n",
    "# for i in range(1,n+1):\n",
    "#     if i%2!=0:\n",
    "#         print(i,end=\" \")\n",
    "\n",
    "\n",
    "n = int(input(\"Enter n: \"))\n",
    "i=1\n",
    "while i<=n:\n",
    "    if i%2!=0:\n",
    "        print(i,end=\" \")\n",
    "    i+=1"
   ]
  },
  {
   "cell_type": "code",
   "execution_count": 16,
   "metadata": {},
   "outputs": [
    {
     "name": "stdout",
     "output_type": "stream",
     "text": [
      "9 * 1 = 9\n",
      "9 * 2 = 18\n",
      "9 * 3 = 27\n",
      "9 * 4 = 36\n",
      "9 * 5 = 45\n",
      "9 * 6 = 54\n",
      "9 * 7 = 63\n",
      "9 * 8 = 72\n",
      "9 * 9 = 81\n",
      "9 * 10 = 90\n"
     ]
    }
   ],
   "source": [
    "#read n from user and display multiples of n\n",
    "# n = int(input(\"Enter n: \"))\n",
    "# for i in range(1,11):\n",
    "#     # print(n,'*',i,'=',n*i)\n",
    "#     print(f\"{n} * {i} = {n*i}\")\n",
    "\n",
    "n = int(input(\"Enter n: \"))\n",
    "i=1\n",
    "while i<=10:\n",
    "    print(f\"{n} * {i} = {n*i}\")\n",
    "    i+=1"
   ]
  },
  {
   "cell_type": "code",
   "execution_count": 20,
   "metadata": {},
   "outputs": [
    {
     "name": "stdout",
     "output_type": "stream",
     "text": [
      "0\n",
      "1\n",
      "1\n",
      "2\n",
      "3\n",
      "5\n"
     ]
    }
   ],
   "source": [
    "#fibinocci\n",
    "# 0,1,1,2,3,5,8,13,21\n",
    "# n = int(input(\"Enter a Range: \"))\n",
    "# f1 = 0\n",
    "# f2 = 1\n",
    "# print(f1,f2,sep=\"\\n\")\n",
    "# for i in range(3,n+1):\n",
    "#     f3 = f1+f2\n",
    "#     print(f3)\n",
    "#     f1 = f2\n",
    "#     f2 = f3\n",
    "\n",
    "n = int(input(\"Enter a Range: \"))\n",
    "f1 = 0\n",
    "f2 = 1\n",
    "print(f1,f2,sep=\"\\n\")\n",
    "i=3\n",
    "while i<=n:\n",
    "    f3 = f1+f2\n",
    "    print(f3)\n",
    "    f1 = f2\n",
    "    f2 = f3\n",
    "    i+=1"
   ]
  },
  {
   "cell_type": "code",
   "execution_count": 25,
   "metadata": {},
   "outputs": [
    {
     "name": "stdout",
     "output_type": "stream",
     "text": [
      "720\n"
     ]
    }
   ],
   "source": [
    "# fact\n",
    "# n = int(input(\"Enter a number: \"))\n",
    "# fact = 1\n",
    "# for i in range(1,n+1):\n",
    "#     fact*=i\n",
    "# print(fact)\n",
    "\n",
    "n = int(input(\"Enter a number: \"))\n",
    "fact = 1\n",
    "i=1\n",
    "while i<=n:\n",
    "    fact*=i\n",
    "    i+=1\n",
    "print(fact)"
   ]
  },
  {
   "cell_type": "code",
   "execution_count": 26,
   "metadata": {},
   "outputs": [
    {
     "name": "stdout",
     "output_type": "stream",
     "text": [
      "10\n"
     ]
    }
   ],
   "source": [
    "# sum of number\n",
    "n = int(input(\"Enter a number: \"))\n",
    "sum = 0\n",
    "while n>0:\n",
    "    sum=sum+n%10\n",
    "    n//=10\n",
    "print(sum)"
   ]
  },
  {
   "cell_type": "code",
   "execution_count": 29,
   "metadata": {},
   "outputs": [
    {
     "name": "stdout",
     "output_type": "stream",
     "text": [
      "4321\n"
     ]
    }
   ],
   "source": [
    "# check number is palindrome\n",
    "n = int(input(\"Enter a number: \"))\n",
    "rev = 0\n",
    "while n>0:\n",
    "    rev=rev*10+n%10\n",
    "    n//=10\n",
    "print(rev)"
   ]
  },
  {
   "cell_type": "code",
   "execution_count": 33,
   "metadata": {},
   "outputs": [
    {
     "name": "stdout",
     "output_type": "stream",
     "text": [
      "Prime\n"
     ]
    }
   ],
   "source": [
    "# prime is not\n",
    "n = int(input(\"Enter a number: \"))\n",
    "for i in range(2,n):\n",
    "    if n%i==0:\n",
    "        print(\"Not Prime\")\n",
    "        break\n",
    "else:\n",
    "    print(\"Prime\")"
   ]
  },
  {
   "cell_type": "code",
   "execution_count": 34,
   "metadata": {},
   "outputs": [
    {
     "name": "stdout",
     "output_type": "stream",
     "text": [
      "2 3 5 7 "
     ]
    }
   ],
   "source": [
    "# prime till range\n",
    "n = int(input(\"Enter a Range:\"))\n",
    "for i in range(1,n+1):\n",
    "    isPrime = True\n",
    "    for j in range(2,i):\n",
    "        if i%j==0:\n",
    "            isPrime = False\n",
    "            break\n",
    "    if isPrime and i!=1:\n",
    "        print(i,end=\" \")"
   ]
  },
  {
   "cell_type": "code",
   "execution_count": 35,
   "metadata": {},
   "outputs": [
    {
     "name": "stdout",
     "output_type": "stream",
     "text": [
      "*\n",
      "**\n",
      "***\n",
      "****\n",
      "*****\n"
     ]
    }
   ],
   "source": [
    "# pattern printing for *\n",
    "n = int(input(\"Enter a Range:\"))\n",
    "for i in range(1,n+1):\n",
    "    print(\"*\"*i)\n",
    "    \n"
   ]
  },
  {
   "cell_type": "code",
   "execution_count": 36,
   "metadata": {},
   "outputs": [
    {
     "name": "stdout",
     "output_type": "stream",
     "text": [
      "*****\n",
      "****\n",
      "***\n",
      "**\n",
      "*\n"
     ]
    }
   ],
   "source": [
    "n = int(input(\"Enter a Range:\"))\n",
    "for i in range(n,0,-1):\n",
    "    print(\"*\"*i)\n",
    "    "
   ]
  },
  {
   "cell_type": "code",
   "execution_count": 37,
   "metadata": {},
   "outputs": [
    {
     "name": "stdout",
     "output_type": "stream",
     "text": [
      "*\n",
      "**\n",
      "***\n",
      "****\n",
      "*****\n",
      "****\n",
      "***\n",
      "**\n",
      "*\n"
     ]
    }
   ],
   "source": [
    "n = int(input(\"Enter a Range:\"))\n",
    "for i in range(1,n+1):\n",
    "    print(\"*\"*i)\n",
    "    \n",
    "for i in range(n-1,0,-1):\n",
    "    print(\"*\"*i)\n",
    "    "
   ]
  },
  {
   "cell_type": "code",
   "execution_count": 45,
   "metadata": {},
   "outputs": [
    {
     "data": {
      "text/plain": [
       "94"
      ]
     },
     "execution_count": 45,
     "metadata": {},
     "output_type": "execute_result"
    }
   ],
   "source": [
    "import random\n",
    "n = random.randint(1,100)\n",
    "n"
   ]
  },
  {
   "cell_type": "raw",
   "metadata": {},
   "source": [
    "Welcome to Number Guessing Game\n",
    "You have 6 Attempts to Guess Right Number\n",
    "Enter Your Guess:\n",
    "\n",
    "if guess == Number:\n",
    "    print(\"Congratulations! You Guessed Right Number\")\n",
    "elif guess < Number:\n",
    "    print(\"Try Again! Guess Higher Number\")\n",
    "else:\n",
    "    print(\"Try Again! Guess Lower Number\")\n",
    "    continue"
   ]
  },
  {
   "cell_type": "code",
   "execution_count": null,
   "metadata": {},
   "outputs": [],
   "source": []
  }
 ],
 "metadata": {
  "kernelspec": {
   "display_name": "base",
   "language": "python",
   "name": "python3"
  },
  "language_info": {
   "codemirror_mode": {
    "name": "ipython",
    "version": 3
   },
   "file_extension": ".py",
   "mimetype": "text/x-python",
   "name": "python",
   "nbconvert_exporter": "python",
   "pygments_lexer": "ipython3",
   "version": "3.11.7"
  }
 },
 "nbformat": 4,
 "nbformat_minor": 2
}
