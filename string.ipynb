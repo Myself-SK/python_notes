{
 "cells": [
  {
   "cell_type": "raw",
   "metadata": {},
   "source": [
    "String\n",
    "    * Collection of characters\n",
    "    * '' , \" \", \"\"\" \"\"\", ''' '''\n",
    "    * Immutable"
   ]
  },
  {
   "cell_type": "raw",
   "metadata": {},
   "source": [
    "s = 'Python'\n",
    "\n",
    "0   1  2  3  4 5   -> forward index\n",
    "P   y  t  h  o n\n",
    "-6 -5 -4 -3 -2 -1   -> reverse index"
   ]
  },
  {
   "cell_type": "code",
   "execution_count": 1,
   "metadata": {},
   "outputs": [],
   "source": [
    "s = \"Python\""
   ]
  },
  {
   "cell_type": "code",
   "execution_count": 3,
   "metadata": {},
   "outputs": [
    {
     "data": {
      "text/plain": [
       "'P'"
      ]
     },
     "execution_count": 3,
     "metadata": {},
     "output_type": "execute_result"
    }
   ],
   "source": [
    "s[0]"
   ]
  },
  {
   "cell_type": "code",
   "execution_count": 4,
   "metadata": {},
   "outputs": [
    {
     "data": {
      "text/plain": [
       "'P'"
      ]
     },
     "execution_count": 4,
     "metadata": {},
     "output_type": "execute_result"
    }
   ],
   "source": [
    "s[-6]"
   ]
  },
  {
   "cell_type": "code",
   "execution_count": 10,
   "metadata": {},
   "outputs": [
    {
     "data": {
      "text/plain": [
       "'gnirtS gnol yrev a si siht'"
      ]
     },
     "execution_count": 10,
     "metadata": {},
     "output_type": "execute_result"
    }
   ],
   "source": [
    "# s[start:stop:step]\n",
    "s = \"this is a very long String\"\n",
    "s[::-1]"
   ]
  },
  {
   "cell_type": "code",
   "execution_count": 13,
   "metadata": {},
   "outputs": [
    {
     "name": "stdout",
     "output_type": "stream",
     "text": [
      "a\\b=c\n"
     ]
    }
   ],
   "source": [
    "print(r'a\\b=c')"
   ]
  },
  {
   "cell_type": "code",
   "execution_count": 18,
   "metadata": {},
   "outputs": [
    {
     "name": "stdout",
     "output_type": "stream",
     "text": [
      "The sum of 10 and 20 = 30\n"
     ]
    }
   ],
   "source": [
    "a=10\n",
    "b=20\n",
    "c=a+b\n",
    "# print(\"The sum of\",a,\"and\",b,\"is\",c)\n",
    "# print(\"The sum of {} and {} is {}\".format(a,b,c))\n",
    "# print(\"The sum of %d and %d = %d\"%(a,b,c))\n",
    "# print(f\"The sum of {a} and {b} = {c}\")\n",
    "# print(\"The sum of {a} and {b} = {c}\".format_map({'a':a,'b':b,'c':c}))"
   ]
  },
  {
   "cell_type": "code",
   "execution_count": 24,
   "metadata": {},
   "outputs": [
    {
     "name": "stdout",
     "output_type": "stream",
     "text": [
      "H e l l o "
     ]
    }
   ],
   "source": [
    "s = \"Hello\"\n",
    "for i in s:\n",
    "    print(i,end=\" \")"
   ]
  },
  {
   "cell_type": "code",
   "execution_count": 25,
   "metadata": {},
   "outputs": [
    {
     "name": "stdout",
     "output_type": "stream",
     "text": [
      "0 B\n",
      "1 y\n",
      "2 e\n"
     ]
    }
   ],
   "source": [
    "s = \"Bye\"\n",
    "for i in range(len(s)):\n",
    "    print(i,s[i])"
   ]
  },
  {
   "cell_type": "code",
   "execution_count": 26,
   "metadata": {},
   "outputs": [
    {
     "data": {
      "text/plain": [
       "11"
      ]
     },
     "execution_count": 26,
     "metadata": {},
     "output_type": "execute_result"
    }
   ],
   "source": [
    "s=\"Long String\"\n",
    "len(s)"
   ]
  },
  {
   "cell_type": "code",
   "execution_count": 20,
   "metadata": {},
   "outputs": [
    {
     "name": "stdout",
     "output_type": "stream",
     "text": [
      "5\n"
     ]
    }
   ],
   "source": [
    "s = input(\"Enter a string: \")\n",
    "count = 0\n",
    "for i in s:\n",
    "    count += 1\n",
    "print(count)"
   ]
  },
  {
   "cell_type": "code",
   "execution_count": 2,
   "metadata": {},
   "outputs": [
    {
     "name": "stdout",
     "output_type": "stream",
     "text": [
      "Consonant\n"
     ]
    }
   ],
   "source": [
    "# read a char from check weather it is vowel or consonant\n",
    "s = input(\"Enter a char: \")\n",
    "if s in \"AEIOUaeiou\":\n",
    "    print(\"Vowel\")\n",
    "else:\n",
    "    print(\"Consonant\")"
   ]
  },
  {
   "cell_type": "code",
   "execution_count": 5,
   "metadata": {},
   "outputs": [
    {
     "name": "stdout",
     "output_type": "stream",
     "text": [
      "Vowels: 9\n",
      "Consonants: 21\n"
     ]
    }
   ],
   "source": [
    "# read a string from user and count the number of vowels and consonants in it\n",
    "s = input(\"Enter a String: \")\n",
    "vowelCount = 0\n",
    "consonentCount = 0\n",
    "for i in s:\n",
    "    if i in \"AEIOUaeiou\":\n",
    "        vowelCount += 1\n",
    "    else:\n",
    "        consonentCount += 1\n",
    "print(\"Vowels:\",vowelCount)\n",
    "print(\"Consonants:\",consonentCount)"
   ]
  },
  {
   "cell_type": "code",
   "execution_count": 7,
   "metadata": {},
   "outputs": [
    {
     "name": "stdout",
     "output_type": "stream",
     "text": [
      "Words: 2\n"
     ]
    }
   ],
   "source": [
    "# read a string and count the num of words in it\n",
    "s = input(\"Enter a string: \")\n",
    "wordCount = 1\n",
    "for i in range(len(s)):\n",
    "    if s[i] == \" \" and s[i+1]!=\" \":\n",
    "        wordCount += 1\n",
    "print(\"Words:\",wordCount)"
   ]
  },
  {
   "cell_type": "code",
   "execution_count": 2,
   "metadata": {},
   "outputs": [
    {
     "data": {
      "text/plain": [
       "'This is a string'"
      ]
     },
     "execution_count": 2,
     "metadata": {},
     "output_type": "execute_result"
    }
   ],
   "source": [
    "s = \"tHis Is a String\"\n",
    "s.capitalize()"
   ]
  },
  {
   "cell_type": "code",
   "execution_count": 3,
   "metadata": {},
   "outputs": [
    {
     "data": {
      "text/plain": [
       "'this is a string'"
      ]
     },
     "execution_count": 3,
     "metadata": {},
     "output_type": "execute_result"
    }
   ],
   "source": [
    "s.casefold()"
   ]
  },
  {
   "cell_type": "code",
   "execution_count": 5,
   "metadata": {},
   "outputs": [
    {
     "data": {
      "text/plain": [
       "True"
      ]
     },
     "execution_count": 5,
     "metadata": {},
     "output_type": "execute_result"
    }
   ],
   "source": [
    "s1 = \"Shiva\"\n",
    "s2 = \"SHIVA\"\n",
    "\n",
    "s1.casefold() == s2.casefold()"
   ]
  },
  {
   "cell_type": "code",
   "execution_count": 8,
   "metadata": {},
   "outputs": [
    {
     "data": {
      "text/plain": [
       "'*******python*******'"
      ]
     },
     "execution_count": 8,
     "metadata": {},
     "output_type": "execute_result"
    }
   ],
   "source": [
    "s = \"python\"\n",
    "s.center(20,'*')"
   ]
  },
  {
   "cell_type": "code",
   "execution_count": 12,
   "metadata": {},
   "outputs": [
    {
     "data": {
      "text/plain": [
       "1"
      ]
     },
     "execution_count": 12,
     "metadata": {},
     "output_type": "execute_result"
    }
   ],
   "source": [
    "s.count('py')"
   ]
  },
  {
   "cell_type": "code",
   "execution_count": 13,
   "metadata": {},
   "outputs": [
    {
     "data": {
      "text/plain": [
       "b'python'"
      ]
     },
     "execution_count": 13,
     "metadata": {},
     "output_type": "execute_result"
    }
   ],
   "source": [
    "s.encode()"
   ]
  },
  {
   "cell_type": "code",
   "execution_count": 18,
   "metadata": {},
   "outputs": [
    {
     "data": {
      "text/plain": [
       "True"
      ]
     },
     "execution_count": 18,
     "metadata": {},
     "output_type": "execute_result"
    }
   ],
   "source": [
    "s.endswith('python')"
   ]
  },
  {
   "cell_type": "code",
   "execution_count": 25,
   "metadata": {},
   "outputs": [
    {
     "data": {
      "text/plain": [
       "-1"
      ]
     },
     "execution_count": 25,
     "metadata": {},
     "output_type": "execute_result"
    }
   ],
   "source": [
    "s.find('z')"
   ]
  },
  {
   "cell_type": "code",
   "execution_count": 29,
   "metadata": {},
   "outputs": [
    {
     "ename": "ValueError",
     "evalue": "substring not found",
     "output_type": "error",
     "traceback": [
      "\u001b[0;31m---------------------------------------------------------------------------\u001b[0m",
      "\u001b[0;31mValueError\u001b[0m                                Traceback (most recent call last)",
      "Cell \u001b[0;32mIn[29], line 1\u001b[0m\n\u001b[0;32m----> 1\u001b[0m s[s\u001b[38;5;241m.\u001b[39mindex(\u001b[38;5;124m'\u001b[39m\u001b[38;5;124mx\u001b[39m\u001b[38;5;124m'\u001b[39m)]\n",
      "\u001b[0;31mValueError\u001b[0m: substring not found"
     ]
    }
   ],
   "source": [
    "s.index('z')"
   ]
  },
  {
   "cell_type": "code",
   "execution_count": 33,
   "metadata": {},
   "outputs": [
    {
     "data": {
      "text/plain": [
       "'python'"
      ]
     },
     "execution_count": 33,
     "metadata": {},
     "output_type": "execute_result"
    }
   ],
   "source": [
    "s"
   ]
  },
  {
   "cell_type": "code",
   "execution_count": 31,
   "metadata": {},
   "outputs": [
    {
     "data": {
      "text/plain": [
       "5"
      ]
     },
     "execution_count": 31,
     "metadata": {},
     "output_type": "execute_result"
    }
   ],
   "source": [
    "s.index('n')"
   ]
  },
  {
   "cell_type": "code",
   "execution_count": 11,
   "metadata": {},
   "outputs": [
    {
     "name": "stdout",
     "output_type": "stream",
     "text": [
      "HelloPython\n",
      "Hellopython\n"
     ]
    }
   ],
   "source": [
    "#function for capitalize #tomorrow\n",
    "s = input(\"Enter a String\")\n",
    "print(s)\n",
    "mod_s = \"\"\n",
    "for i in s:\n",
    "    if ord(i)>=65 and ord(i)<=91:\n",
    "        mod_s += chr(ord(i)+32)\n",
    "    else:\n",
    "        mod_s += i\n",
    "res = \"\"\n",
    "res = chr(ord(mod_s[0])-32) + mod_s[1:]\n",
    "print(res)"
   ]
  },
  {
   "cell_type": "code",
   "execution_count": 35,
   "metadata": {},
   "outputs": [
    {
     "data": {
      "text/plain": [
       "'            python            '"
      ]
     },
     "execution_count": 35,
     "metadata": {},
     "output_type": "execute_result"
    }
   ],
   "source": [
    "# s.center(30)\n",
    "# s.center(3)\n",
    "# s.center(30,'*')"
   ]
  },
  {
   "cell_type": "code",
   "execution_count": 50,
   "metadata": {},
   "outputs": [
    {
     "name": "stdout",
     "output_type": "stream",
     "text": [
      "************python************"
     ]
    }
   ],
   "source": [
    "#function for center\n",
    "s = input(\"Enter a string: \")\n",
    "n = int(input(\"Enter the width: \"))\n",
    "ch = input(\"Enter the character: \")\n",
    "if len(ch) == 0:\n",
    "    ch = \" \"\n",
    "if len(s)>n:\n",
    "    print(s)\n",
    "else:\n",
    "    m = n-len(s)\n",
    "    a = m//2\n",
    "    b = m-a\n",
    "    for i in range(a):\n",
    "        print(ch,end=\"\")\n",
    "    print(s,end=\"\")\n",
    "    for i in range(b):\n",
    "        print(ch,end=\"\")"
   ]
  },
  {
   "cell_type": "code",
   "execution_count": 43,
   "metadata": {},
   "outputs": [
    {
     "name": "stdout",
     "output_type": "stream",
     "text": [
      "you are on python\n",
      "on\n",
      "2\n"
     ]
    }
   ],
   "source": [
    "#function for count\n",
    "s = input(\"Enter a String\")\n",
    "ch = input(\"Enter a Char\")\n",
    "print(s)\n",
    "print(ch)\n",
    "count = 0\n",
    "for i in range(len(s)):\n",
    "    if ch == s[i:i+len(ch)]: #slicing\n",
    "        count += 1\n",
    "print(count)"
   ]
  },
  {
   "cell_type": "code",
   "execution_count": 14,
   "metadata": {},
   "outputs": [
    {
     "name": "stdout",
     "output_type": "stream",
     "text": [
      "ip string =  python\n",
      "ip sub string =  Py\n",
      "False\n"
     ]
    }
   ],
   "source": [
    "#function for endswith\n",
    "s = input(\"Enter a String\")\n",
    "sub = input(\"Enter a Substring\")\n",
    "print(\"ip string = \",s)\n",
    "print(\"ip sub string = \",sub)\n",
    "n = len(s)\n",
    "m = len(sub)\n",
    "if s[n-m:] == sub: #slicing\n",
    "    print(True)\n",
    "else:\n",
    "    print(False)\n"
   ]
  },
  {
   "cell_type": "code",
   "execution_count": 17,
   "metadata": {},
   "outputs": [
    {
     "data": {
      "text/plain": [
       "13"
      ]
     },
     "execution_count": 17,
     "metadata": {},
     "output_type": "execute_result"
    }
   ],
   "source": [
    "s = \"onandoninPython\"\n",
    "s.find('on',7)"
   ]
  },
  {
   "cell_type": "code",
   "execution_count": 21,
   "metadata": {},
   "outputs": [
    {
     "name": "stdout",
     "output_type": "stream",
     "text": [
      "pythonandon\n",
      "on\n",
      "7\n",
      "9\n"
     ]
    }
   ],
   "source": [
    "#function for find\n",
    "s = input(\"Enter a String\")\n",
    "sub = input(\"Enter a Substring\")\n",
    "index = input(\"Enter the index\")\n",
    "print(s,sub,index,sep=\"\\n\")\n",
    "if len(index) == 0:\n",
    "    index = 0\n",
    "else:\n",
    "    index = int(index)\n",
    "for i in range(index,len(s)):\n",
    "    if s[i:i+len(sub)] == sub:\n",
    "        print(i)\n",
    "        break"
   ]
  },
  {
   "cell_type": "code",
   "execution_count": null,
   "metadata": {},
   "outputs": [],
   "source": []
  },
  {
   "cell_type": "code",
   "execution_count": 4,
   "metadata": {},
   "outputs": [
    {
     "data": {
      "text/plain": [
       "'1$2$3$P$y$t$h$o$n'"
      ]
     },
     "execution_count": 4,
     "metadata": {},
     "output_type": "execute_result"
    }
   ],
   "source": [
    "s = \"123Python\"\n",
    "'$'.join(s)"
   ]
  },
  {
   "cell_type": "code",
   "execution_count": 6,
   "metadata": {},
   "outputs": [
    {
     "data": {
      "text/plain": [
       "'123Python           '"
      ]
     },
     "execution_count": 6,
     "metadata": {},
     "output_type": "execute_result"
    }
   ],
   "source": [
    "s.ljust(20)"
   ]
  },
  {
   "cell_type": "code",
   "execution_count": 7,
   "metadata": {},
   "outputs": [
    {
     "data": {
      "text/plain": [
       "'123python'"
      ]
     },
     "execution_count": 7,
     "metadata": {},
     "output_type": "execute_result"
    }
   ],
   "source": [
    "s.lower()"
   ]
  },
  {
   "cell_type": "code",
   "execution_count": 9,
   "metadata": {},
   "outputs": [
    {
     "name": "stdout",
     "output_type": "stream",
     "text": [
      "         \n",
      "\n",
      "\t\t\n",
      "\n",
      "\n",
      "Python\n",
      "\n",
      "\t\t\t\n",
      "\n",
      "\t\n"
     ]
    }
   ],
   "source": [
    "s = \"         \\n\\n\\t\\t\\n\\n\\nPython\\n\\n\\t\\t\\t\\n\\n\\t\"\n",
    "print(s)"
   ]
  },
  {
   "cell_type": "code",
   "execution_count": 10,
   "metadata": {},
   "outputs": [
    {
     "data": {
      "text/plain": [
       "'Python\\n\\n\\t\\t\\t\\n\\n\\t'"
      ]
     },
     "execution_count": 10,
     "metadata": {},
     "output_type": "execute_result"
    }
   ],
   "source": [
    "s.lstrip()"
   ]
  },
  {
   "cell_type": "code",
   "execution_count": 12,
   "metadata": {},
   "outputs": [
    {
     "data": {
      "text/plain": [
       "('python ', 'no', 'tes none')"
      ]
     },
     "execution_count": 12,
     "metadata": {},
     "output_type": "execute_result"
    }
   ],
   "source": [
    "s = \"python notes none\"\n",
    "s.partition('no')"
   ]
  },
  {
   "cell_type": "code",
   "execution_count": 18,
   "metadata": {},
   "outputs": [
    {
     "data": {
      "text/plain": [
       "'python notes none'"
      ]
     },
     "execution_count": 18,
     "metadata": {},
     "output_type": "execute_result"
    }
   ],
   "source": [
    "s.removesuffix('nono')"
   ]
  },
  {
   "cell_type": "code",
   "execution_count": 19,
   "metadata": {},
   "outputs": [
    {
     "data": {
      "text/plain": [
       "'python yestes yesne'"
      ]
     },
     "execution_count": 19,
     "metadata": {},
     "output_type": "execute_result"
    }
   ],
   "source": [
    "s.replace('no','yes')"
   ]
  },
  {
   "cell_type": "code",
   "execution_count": 22,
   "metadata": {},
   "outputs": [
    {
     "data": {
      "text/plain": [
       "15"
      ]
     },
     "execution_count": 22,
     "metadata": {},
     "output_type": "execute_result"
    }
   ],
   "source": [
    "s.rfind('n')"
   ]
  },
  {
   "cell_type": "code",
   "execution_count": 24,
   "metadata": {},
   "outputs": [
    {
     "data": {
      "text/plain": [
       "['python', 'notes', 'none']"
      ]
     },
     "execution_count": 24,
     "metadata": {},
     "output_type": "execute_result"
    }
   ],
   "source": [
    "s.split(' ')"
   ]
  },
  {
   "cell_type": "code",
   "execution_count": 25,
   "metadata": {},
   "outputs": [
    {
     "data": {
      "text/plain": [
       "True"
      ]
     },
     "execution_count": 25,
     "metadata": {},
     "output_type": "execute_result"
    }
   ],
   "source": [
    "s.startswith('py')"
   ]
  },
  {
   "cell_type": "code",
   "execution_count": 26,
   "metadata": {},
   "outputs": [
    {
     "data": {
      "text/plain": [
       "'python notes none'"
      ]
     },
     "execution_count": 26,
     "metadata": {},
     "output_type": "execute_result"
    }
   ],
   "source": [
    "s.strip()"
   ]
  },
  {
   "cell_type": "code",
   "execution_count": 28,
   "metadata": {},
   "outputs": [
    {
     "data": {
      "text/plain": [
       "'pYtHoN'"
      ]
     },
     "execution_count": 28,
     "metadata": {},
     "output_type": "execute_result"
    }
   ],
   "source": [
    "s=\"PyThOn\"\n",
    "s.swapcase()"
   ]
  },
  {
   "cell_type": "code",
   "execution_count": 29,
   "metadata": {},
   "outputs": [
    {
     "data": {
      "text/plain": [
       "'Python Notes None'"
      ]
     },
     "execution_count": 29,
     "metadata": {},
     "output_type": "execute_result"
    }
   ],
   "source": [
    "s = \"python notes none\"\n",
    "s.title()"
   ]
  },
  {
   "cell_type": "code",
   "execution_count": 30,
   "metadata": {},
   "outputs": [
    {
     "data": {
      "text/plain": [
       "'PYTHON NOTES NONE'"
      ]
     },
     "execution_count": 30,
     "metadata": {},
     "output_type": "execute_result"
    }
   ],
   "source": [
    "s.upper()"
   ]
  },
  {
   "cell_type": "code",
   "execution_count": 32,
   "metadata": {},
   "outputs": [
    {
     "data": {
      "text/plain": [
       "'0000python'"
      ]
     },
     "execution_count": 32,
     "metadata": {},
     "output_type": "execute_result"
    }
   ],
   "source": [
    "s=\"python\"\n",
    "s.zfill(10)"
   ]
  },
  {
   "cell_type": "code",
   "execution_count": 33,
   "metadata": {},
   "outputs": [
    {
     "data": {
      "text/plain": [
       "65"
      ]
     },
     "execution_count": 33,
     "metadata": {},
     "output_type": "execute_result"
    }
   ],
   "source": [
    "ord('A')"
   ]
  },
  {
   "cell_type": "code",
   "execution_count": 34,
   "metadata": {},
   "outputs": [
    {
     "data": {
      "text/plain": [
       "'A'"
      ]
     },
     "execution_count": 34,
     "metadata": {},
     "output_type": "execute_result"
    }
   ],
   "source": [
    "chr(65)"
   ]
  },
  {
   "cell_type": "code",
   "execution_count": 37,
   "metadata": {},
   "outputs": [
    {
     "name": "stdout",
     "output_type": "stream",
     "text": [
      "0 \u0000\t1 \u0001\t2 \u0002\t3 \u0003\t4 \u0004\t5 \u0005\t6 \u0006\t7 \u0007\t8\t9 \t\t10 \n",
      "\t14 \u000e\t15 \u000f\t16 \u0010\t17 \u0011\t18 \u0012\t19 \u0013\t20 \u0014\t21 \u0015\t22 \u0016\t23 \u0017\t24 \u0018\t25 \u0019\t26 \u001a\t27 \u001b\t28 \u001c\t29 \u001d\t30 \u001e\t31 \u001f\t32  \t33 !\t34 \"\t35 #\t36 $\t37 %\t38 &\t39 '\t40 (\t41 )\t42 *\t43 +\t44 ,\t45 -\t46 .\t47 /\t48 0\t49 1\t50 2\t51 3\t52 4\t53 5\t54 6\t55 7\t56 8\t57 9\t58 :\t59 ;\t60 <\t61 =\t62 >\t63 ?\t64 @\t65 A\t66 B\t67 C\t68 D\t69 E\t70 F\t71 G\t72 H\t73 I\t74 J\t75 K\t76 L\t77 M\t78 N\t79 O\t80 P\t81 Q\t82 R\t83 S\t84 T\t85 U\t86 V\t87 W\t88 X\t89 Y\t90 Z\t91 [\t92 \\\t93 ]\t94 ^\t95 _\t96 `\t97 a\t98 b\t99 c\t100 d\t101 e\t102 f\t103 g\t104 h\t105 i\t106 j\t107 k\t108 l\t109 m\t110 n\t111 o\t112 p\t113 q\t114 r\t115 s\t116 t\t117 u\t118 v\t119 w\t120 x\t121 y\t122 z\t123 {\t124 |\t125 }\t126 ~\t127 \t128 \t129 \t130 \t131 \t132 \t133 \t134 \t135 \t136 \t137 \t138 \t139 \t140 \t141 \t142 \t143 \t144 \t145 \t146 \t147 \t148 \t149 \t150 \t151 \t152 \t153 \t154 \t155 \t156 \t157 \t158 \t159 \t160  \t161 ¡\t162 ¢\t163 £\t164 ¤\t165 ¥\t166 ¦\t167 §\t168 ¨\t169 ©\t170 ª\t171 «\t172 ¬\t173 ­\t174 ®\t175 ¯\t176 °\t177 ±\t178 ²\t179 ³\t180 ´\t181 µ\t182 ¶\t183 ·\t184 ¸\t185 ¹\t186 º\t187 »\t188 ¼\t189 ½\t190 ¾\t191 ¿\t192 À\t193 Á\t194 Â\t195 Ã\t196 Ä\t197 Å\t198 Æ\t199 Ç\t200 È\t201 É\t202 Ê\t203 Ë\t204 Ì\t205 Í\t206 Î\t207 Ï\t208 Ð\t209 Ñ\t210 Ò\t211 Ó\t212 Ô\t213 Õ\t214 Ö\t215 ×\t216 Ø\t217 Ù\t218 Ú\t219 Û\t220 Ü\t221 Ý\t222 Þ\t223 ß\t224 à\t225 á\t226 â\t227 ã\t228 ä\t229 å\t230 æ\t231 ç\t232 è\t233 é\t234 ê\t235 ë\t236 ì\t237 í\t238 î\t239 ï\t240 ð\t241 ñ\t242 ò\t243 ó\t244 ô\t245 õ\t246 ö\t247 ÷\t248 ø\t249 ù\t250 ú\t251 û\t252 ü\t253 ý\t254 þ\t"
     ]
    }
   ],
   "source": [
    "for i in range(255):\n",
    "    print(i,chr(i),end=\"\\t\")"
   ]
  },
  {
   "cell_type": "code",
   "execution_count": 25,
   "metadata": {},
   "outputs": [
    {
     "name": "stdout",
     "output_type": "stream",
     "text": [
      "p,y,t,h,o,n,"
     ]
    }
   ],
   "source": [
    "# join\n",
    "s = input(\"Enter a String\")\n",
    "ch = input(\"Enter a char\")\n",
    "for i in range(0,len(s)-1):\n",
    "    print(s[i],ch,end=\"\",sep=\"\")\n",
    "print(s[-1])"
   ]
  },
  {
   "cell_type": "code",
   "execution_count": 28,
   "metadata": {},
   "outputs": [
    {
     "name": "stdout",
     "output_type": "stream",
     "text": [
      "python              "
     ]
    }
   ],
   "source": [
    "# ljust\n",
    "s = input(\"Enter a String\")\n",
    "n = int(input(\"Enter the width\"))\n",
    "ch = input(\"Enter a char\")\n",
    "if len(ch) == 0:\n",
    "    ch=' '\n",
    "print(s,end=\"\")\n",
    "for i in range(n-len(s)):\n",
    "    print(ch,end=\"\")\n"
   ]
  },
  {
   "cell_type": "code",
   "execution_count": null,
   "metadata": {},
   "outputs": [],
   "source": [
    "# rjust\n"
   ]
  },
  {
   "cell_type": "code",
   "execution_count": 49,
   "metadata": {},
   "outputs": [
    {
     "name": "stdout",
     "output_type": "stream",
     "text": [
      "python"
     ]
    }
   ],
   "source": [
    "# lower\n",
    "s = input(\"Enter a string: \")\n",
    "for i in s:\n",
    "    if ord(i)>=65 and ord(i)<=91:\n",
    "        print(chr(ord(i)+32),end=\"\")\n",
    "    else:\n",
    "        print(i,end=\"\")"
   ]
  },
  {
   "cell_type": "code",
   "execution_count": 46,
   "metadata": {},
   "outputs": [
    {
     "data": {
      "text/plain": [
       "91"
      ]
     },
     "execution_count": 46,
     "metadata": {},
     "output_type": "execute_result"
    }
   ],
   "source": [
    "65+26"
   ]
  },
  {
   "cell_type": "code",
   "execution_count": null,
   "metadata": {},
   "outputs": [],
   "source": [
    "# upper\n"
   ]
  },
  {
   "cell_type": "code",
   "execution_count": 33,
   "metadata": {},
   "outputs": [
    {
     "name": "stdout",
     "output_type": "stream",
     "text": [
      "4\n",
      "('pyth', 'on', ' on notes')\n"
     ]
    }
   ],
   "source": [
    "# partition\n",
    "\n",
    "s = input(\"Enter a String\")\n",
    "sub = input(\"Enter a Substring\")\n",
    "for i in range(len(s)):\n",
    "    if s[i:i+len(sub)] == sub:\n",
    "        print(i)\n",
    "        break\n",
    "print((s[:i],sub,s[i+len(sub):])) "
   ]
  },
  {
   "cell_type": "code",
   "execution_count": 40,
   "metadata": {},
   "outputs": [
    {
     "name": "stdout",
     "output_type": "stream",
     "text": [
      "python on on on notes on\n",
      "4\n",
      "7\n",
      "10\n",
      "13\n",
      "('python on on ', 'on', ' notes')\n"
     ]
    }
   ],
   "source": [
    "# rpartition\n",
    "# partition\n",
    "\n",
    "s = input(\"Enter a String\")\n",
    "sub = input(\"Enter a Substring\")\n",
    "print(s,sub,end=\"\\n\")\n",
    "idx = 0\n",
    "for i in range(len(s)):\n",
    "    if s[i:i+len(sub)] == sub:\n",
    "        idx = i\n",
    "print((s[:idx],sub,s[idx+len( sub):])) "
   ]
  },
  {
   "cell_type": "code",
   "execution_count": null,
   "metadata": {},
   "outputs": [],
   "source": [
    "# removeprefix\n"
   ]
  },
  {
   "cell_type": "code",
   "execution_count": null,
   "metadata": {},
   "outputs": [],
   "source": [
    "# removesuffix\n"
   ]
  },
  {
   "cell_type": "code",
   "execution_count": null,
   "metadata": {},
   "outputs": [],
   "source": [
    "# replace\n"
   ]
  },
  {
   "cell_type": "code",
   "execution_count": null,
   "metadata": {},
   "outputs": [],
   "source": [
    "# startswith\n"
   ]
  },
  {
   "cell_type": "code",
   "execution_count": null,
   "metadata": {},
   "outputs": [],
   "source": [
    "# split\n"
   ]
  },
  {
   "cell_type": "code",
   "execution_count": null,
   "metadata": {},
   "outputs": [],
   "source": [
    "# swapcase\n"
   ]
  },
  {
   "cell_type": "code",
   "execution_count": null,
   "metadata": {},
   "outputs": [],
   "source": [
    "# title\n"
   ]
  },
  {
   "cell_type": "code",
   "execution_count": null,
   "metadata": {},
   "outputs": [],
   "source": [
    "#zfill"
   ]
  }
 ],
 "metadata": {
  "kernelspec": {
   "display_name": "base",
   "language": "python",
   "name": "python3"
  },
  "language_info": {
   "codemirror_mode": {
    "name": "ipython",
    "version": 3
   },
   "file_extension": ".py",
   "mimetype": "text/x-python",
   "name": "python",
   "nbconvert_exporter": "python",
   "pygments_lexer": "ipython3",
   "version": "3.12.7"
  }
 },
 "nbformat": 4,
 "nbformat_minor": 2
}
